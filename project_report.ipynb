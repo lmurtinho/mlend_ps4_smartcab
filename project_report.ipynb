{
 "cells": [
  {
   "cell_type": "markdown",
   "metadata": {},
   "source": [
    "# Project 4 Report\n",
    "\n",
    "This is my report by Project 4 of the Machine Learning Engineer Nanodegree - **Teach a Smartcab How to Drive**. In this project I used reinforcement learning techniques to teach an engine how to play a simple game of reaching a destination on a grid-like world given some restrictions. The project description can be found [here](https://classroom.udacity.com/nanodegrees/nd009/parts/0091345409/modules/540405889375461/lessons/5404058893239847/concepts/54440204820923), and my code for the project is on [this github repo](https://github.com/lmurtinho/machine-learning/tree/my_projects/projects/smartcab)."
   ]
  },
  {
   "cell_type": "markdown",
   "metadata": {},
   "source": [
    "## Rules of the Game\n",
    "\n",
    "Our agent should get to its destination on time and respect the following traffic rules:\n",
    "\n",
    "- If the light is red, the agent generally cannot move - but it can turn right when there is no traffic from the left going forward and no oncoming traffic turning left\n",
    "- If the light is green, the agent generally can move - but it cannot turn left when there is oncoming traffic going forward or turning right\n",
    "\n",
    "At each moment in the game, the agent can go forward, turn right, turn left, or do nothing."
   ]
  },
  {
   "cell_type": "markdown",
   "metadata": {},
   "source": [
    "## Task 1: Implement a Basic Driving Agent\n",
    "\n",
    "According to the project's instructions, the basic driving agent should \"produce some random move/action.\" That's easy enough with something like this: "
   ]
  },
  {
   "cell_type": "code",
   "execution_count": 1,
   "metadata": {
    "collapsed": true
   },
   "outputs": [],
   "source": [
    "import random\n",
    "\n",
    "def update(self, t):\n",
    "    # Gather inputs\n",
    "    self.next_waypoint = self.planner.next_waypoint()  # from route planner, also displayed by simulator\n",
    "    inputs = self.env.sense(self)\n",
    "    deadline = self.env.get_deadline(self)\n",
    "    \n",
    "    # Do something random\n",
    "    action = random.choice(['right', 'left', 'forward', None])"
   ]
  },
  {
   "cell_type": "markdown",
   "metadata": {},
   "source": [
    "We'll see below how this strategy fares in avoiding illegal moves and getting the agent to its destination. Spoiler: not very well. "
   ]
  },
  {
   "cell_type": "markdown",
   "metadata": {},
   "source": [
    "## Task 2: Identify and Update State\n",
    "\n",
    "The following information is available for the agent at each update:\n",
    "\n",
    "- *Light*: whether the light is red or green. As mentioned above, a green light means the agent can perform the next action, with the possible exception of a left turn, while a red light means the agent should stay put, with the possible exception of a right turn. So, it is important to add the light to the state.\n",
    "- *Oncoming*: whether there is oncoming traffic, and which direction it is going. As mentioned above, oncoming traffic may mean the agent cannot turn left or right, so this information needs to be in the state as well.\n",
    "- *Right*: whether there is traffic from the right of the agent, and which direction it is going. Right-of-way rules don't mention traffic to the right at any point, so this is unnecessary information that doesn't need to be in the state for the agent to learn the optimal policy.\n",
    "- *Left*: whether there is traffic from the left of the agent, and which direction it is going. Traffic from the left going forward means the agent cannot turn right on a red light, so this needs to be in the state.\n",
    "- *Next waypoint*: the direction the agent should go to reach the destination. Without this information, the agent does not know where to go next and might as well wonder around randomly, so this needs to go in the state.\n",
    "- *Deadline*: how much time the agent has left to reach its destination. At first, I would say this is not meaningful information for the agent, since it doesn't change right-of-way rules nor the best route. I thought about adding it to the state anyway, but this would mean a large increase in the number of possible states. Using only `light` (red or green), `oncoming` (None, left, right, or forward), `left` (None, left, right, or forward) and `next_waypoint` (left, right, or forward), we have $2\\times4\\times4\\times3=96$ possible states. Adding `deadline` would mean multiplying this number by 50, if not more. So I'll keep `deadline` off my state for now.\n",
    "\n",
    "There is the possibility of combining inputs to create a state. Maybe I could define the state in such a way that the allowed actions would be immediately available for the agent; for instance, I could come up with a `turn_right` variable that would check if the agent can turn right, and add that variable to the state. At least for now, though, I'd rather see how the agent deals with the \"raw\" variables; I can tweak the state later to try and get the agent to find the optimal policy.\n",
    "\n",
    "Adding this state implementation to the basic agent presented above leads to the following:"
   ]
  },
  {
   "cell_type": "code",
   "execution_count": 3,
   "metadata": {
    "collapsed": true
   },
   "outputs": [],
   "source": [
    "import random\n",
    "\n",
    "def update(self, t):\n",
    "    # Gather inputs\n",
    "    self.next_waypoint = self.planner.next_waypoint()  # from route planner, also displayed by simulator\n",
    "    inputs = self.env.sense(self)\n",
    "    deadline = self.env.get_deadline(self)\n",
    "    \n",
    "    # update state\n",
    "    self.state = (inputs['light'], inputs['oncoming'], inputs['left'],\n",
    "                  self.next_waypoint)\n",
    "    \n",
    "    # Do something random\n",
    "    action = random.choice(['right', 'left', 'forward', None])"
   ]
  },
  {
   "cell_type": "markdown",
   "metadata": {},
   "source": [
    "## Variables of Interest\n",
    "\n",
    "Let's go a little deeper on what constitute a good agent in this setting. Some ideas come to mind:\n",
    "\n",
    "- A good agent would accumulate a large sum of rewards over time\n",
    "- A good agent would always (or nearly always) reach its destination\n",
    "- A good agent would learn fast\n",
    "- A good agent would make no (or very few) mistakes\n",
    "- A good agent would have a vast knowledge of the state space\n",
    "\n",
    "Some of these may be redundant in this setting: more rewards, for instance, probably means fewer mistakes, and vice-versa. Still, I think this is a good starting point. So I'll keep track of the following variables:\n",
    "\n",
    "- `reward_sum`: the sum of rewards for an agent over a simulation\n",
    "- `disc_reward_sum`: the sum of rewards *discounted over time*, so that an agen that heaps larger rewards faster (i.e. learns faster) will have a larger `disc_reward`\n",
    "- `n_dest_reached`: the number of times the agent has reached its destination\n",
    "- `last_dest_fail`: the most recent trial in which the agent did not reach its destination\n",
    "- `sum_time_left`: the sum over all trials of the steps the agent still had available when it reached its destination (0 if it never reached it)\n",
    "- `n_penalties`: the number of penalties incurred by the agent\n",
    "- `last_penalty`: the most recent trial in which the agent received a penalty\n",
    "- `len_qvals`: how many Q-values are mapped in the agent's Q-function - that is, how many `(state, action)` pairs it visited during the simulation\n",
    "\n",
    "Putting together the update function, the state to implement and the variables of interest leads to this implementation of a basic agent:"
   ]
  },
  {
   "cell_type": "code",
   "execution_count": 8,
   "metadata": {
    "collapsed": false
   },
   "outputs": [],
   "source": [
    "class BasicAgent():\n",
    "    \"\"\"An agent that learns to drive in the smartcab world.\"\"\"\n",
    "\n",
    "    def __init__(self, env):\n",
    "        super(BasicAgent, self).__init__(env)  # sets self.env = env, state = None, next_waypoint = None, and a default color\n",
    "        self.color = 'red'  # override color\n",
    "        self.planner = RoutePlanner(self.env, self)  # simple route planner to get next_waypoint\n",
    "        self.qvals = {} # mapping (state, action) to q-values\n",
    "        self.time = 0 # number of moves performed\n",
    "        self.possible_actions = (None, 'forward', 'left', 'right')\n",
    "        self.reward_sum = 0 # sum of rewards over all trials in simulation\n",
    "        self.disc_reward_sum = 0 # discounted sum of rewards\n",
    "        self.n_dest_reached = 0 # number of destinations reached\n",
    "        self.last_dest_fail = 0 # last time agent failed to reach destination\n",
    "        self.sum_time_left = 0 # sum of time left upon reaching destination over all trials\n",
    "        self.n_penalties = 0 # number of penalties incurred\n",
    "        self.last_penalty = 0 # last trial in which the agent incurred in a penalty\n",
    "\n",
    "    def reset(self, destination=None):\n",
    "        self.planner.route_to(destination)\n",
    "\n",
    "    def best_action(self, state):\n",
    "        \"\"\"\n",
    "        Return a random action (other agents will have different policies)\n",
    "        \"\"\"\n",
    "        return random.choice(self.possible_actions)\n",
    "\n",
    "    def update_qvals(self, state, action, reward):\n",
    "        \"\"\"\n",
    "        Does nothing (in other agents will use reward to update \n",
    "        the mapping from (state, action) pairs to q-values)\n",
    "        \"\"\"\n",
    "        self.qvals[(state, action)] = 0\n",
    "    \n",
    "    def update(self, t):\n",
    "        # Gather inputs\n",
    "        self.next_waypoint = self.planner.next_waypoint()  # from route planner, also displayed by simulator\n",
    "        inputs = self.env.sense(self)\n",
    "        deadline = self.env.get_deadline(self)\n",
    "        \n",
    "        # update time and learning rate\n",
    "        self.time += 1\n",
    "\n",
    "        # Update state\n",
    "        self.state = (inputs['light'], inputs['oncoming'], inputs['left'],\n",
    "                      self.next_waypoint)\n",
    "\n",
    "        # Pick the best known action\n",
    "        action = self.best_action(self.state)\n",
    "        \n",
    "        # Execute action and get reward\n",
    "        reward = self.env.act(self, action)\n",
    "        if reward < 0:\n",
    "            self.n_penalties += 1\n",
    "        self.reward_sum += reward\n",
    "        self.disc_reward_sum += reward / (1 + self.time/100.0)\n",
    "        \n",
    "        # Update the q-value of the (state, action) pair\n",
    "        self.update_qvals(self.state, action, reward)\n"
   ]
  },
  {
   "cell_type": "markdown",
   "metadata": {},
   "source": [
    "A file with this version of the agent can be found [here](https://github.com/lmurtinho/machine-learning/blob/my_projects/projects/smartcab/smartcab/basic_agent.py). (In the actual code, the implementation is `class BasicAgent(Agent)`.)\n",
    "\n",
    "All other agents presented in this report will build upon this `BasicAgent` class, changing only the `best_action` and `update_qvals` methods. I altered some code in `simulator.py` to update some `BasicAgents` values, such as `n_dest_reached`."
   ]
  },
  {
   "cell_type": "markdown",
   "metadata": {},
   "source": [
    "### Basic Agent Results\n",
    "\n",
    "Here are the results of running 100 simulations, of 100 trials each, with the basic agent presented above:"
   ]
  },
  {
   "cell_type": "code",
   "execution_count": 3,
   "metadata": {
    "collapsed": false
   },
   "outputs": [
    {
     "data": {
      "text/html": [
       "<div>\n",
       "<table border=\"1\" class=\"dataframe\">\n",
       "  <thead>\n",
       "    <tr style=\"text-align: right;\">\n",
       "      <th></th>\n",
       "      <th>reward_sum</th>\n",
       "      <th>disc_reward_sum</th>\n",
       "      <th>n_dest_reached</th>\n",
       "      <th>last_dest_fail</th>\n",
       "      <th>sum_time_left</th>\n",
       "      <th>n_penalties</th>\n",
       "      <th>last_penalty</th>\n",
       "      <th>len_qvals</th>\n",
       "    </tr>\n",
       "  </thead>\n",
       "  <tbody>\n",
       "    <tr>\n",
       "      <th>count</th>\n",
       "      <td>100.000000</td>\n",
       "      <td>100.000000</td>\n",
       "      <td>100.000000</td>\n",
       "      <td>100.000000</td>\n",
       "      <td>100.000000</td>\n",
       "      <td>100.000000</td>\n",
       "      <td>100.00</td>\n",
       "      <td>100.000000</td>\n",
       "    </tr>\n",
       "    <tr>\n",
       "      <th>mean</th>\n",
       "      <td>5.690000</td>\n",
       "      <td>0.700331</td>\n",
       "      <td>19.680000</td>\n",
       "      <td>99.760000</td>\n",
       "      <td>306.560000</td>\n",
       "      <td>1586.110000</td>\n",
       "      <td>99.99</td>\n",
       "      <td>87.310000</td>\n",
       "    </tr>\n",
       "    <tr>\n",
       "      <th>std</th>\n",
       "      <td>63.955508</td>\n",
       "      <td>14.582262</td>\n",
       "      <td>4.017336</td>\n",
       "      <td>0.514831</td>\n",
       "      <td>71.353483</td>\n",
       "      <td>55.942773</td>\n",
       "      <td>0.10</td>\n",
       "      <td>6.149148</td>\n",
       "    </tr>\n",
       "    <tr>\n",
       "      <th>min</th>\n",
       "      <td>-153.500000</td>\n",
       "      <td>-24.998485</td>\n",
       "      <td>10.000000</td>\n",
       "      <td>98.000000</td>\n",
       "      <td>159.000000</td>\n",
       "      <td>1469.000000</td>\n",
       "      <td>99.00</td>\n",
       "      <td>76.000000</td>\n",
       "    </tr>\n",
       "    <tr>\n",
       "      <th>25%</th>\n",
       "      <td>-35.750000</td>\n",
       "      <td>-10.772664</td>\n",
       "      <td>17.000000</td>\n",
       "      <td>100.000000</td>\n",
       "      <td>260.250000</td>\n",
       "      <td>1550.000000</td>\n",
       "      <td>100.00</td>\n",
       "      <td>82.000000</td>\n",
       "    </tr>\n",
       "    <tr>\n",
       "      <th>50%</th>\n",
       "      <td>6.250000</td>\n",
       "      <td>0.881820</td>\n",
       "      <td>20.000000</td>\n",
       "      <td>100.000000</td>\n",
       "      <td>296.000000</td>\n",
       "      <td>1587.000000</td>\n",
       "      <td>100.00</td>\n",
       "      <td>87.000000</td>\n",
       "    </tr>\n",
       "    <tr>\n",
       "      <th>75%</th>\n",
       "      <td>57.500000</td>\n",
       "      <td>9.462631</td>\n",
       "      <td>22.000000</td>\n",
       "      <td>100.000000</td>\n",
       "      <td>356.250000</td>\n",
       "      <td>1626.000000</td>\n",
       "      <td>100.00</td>\n",
       "      <td>91.250000</td>\n",
       "    </tr>\n",
       "    <tr>\n",
       "      <th>max</th>\n",
       "      <td>185.000000</td>\n",
       "      <td>39.070327</td>\n",
       "      <td>30.000000</td>\n",
       "      <td>100.000000</td>\n",
       "      <td>463.000000</td>\n",
       "      <td>1714.000000</td>\n",
       "      <td>100.00</td>\n",
       "      <td>102.000000</td>\n",
       "    </tr>\n",
       "  </tbody>\n",
       "</table>\n",
       "</div>"
      ],
      "text/plain": [
       "       reward_sum  disc_reward_sum  n_dest_reached  last_dest_fail  \\\n",
       "count  100.000000       100.000000      100.000000      100.000000   \n",
       "mean     5.690000         0.700331       19.680000       99.760000   \n",
       "std     63.955508        14.582262        4.017336        0.514831   \n",
       "min   -153.500000       -24.998485       10.000000       98.000000   \n",
       "25%    -35.750000       -10.772664       17.000000      100.000000   \n",
       "50%      6.250000         0.881820       20.000000      100.000000   \n",
       "75%     57.500000         9.462631       22.000000      100.000000   \n",
       "max    185.000000        39.070327       30.000000      100.000000   \n",
       "\n",
       "       sum_time_left  n_penalties  last_penalty   len_qvals  \n",
       "count     100.000000   100.000000        100.00  100.000000  \n",
       "mean      306.560000  1586.110000         99.99   87.310000  \n",
       "std        71.353483    55.942773          0.10    6.149148  \n",
       "min       159.000000  1469.000000         99.00   76.000000  \n",
       "25%       260.250000  1550.000000        100.00   82.000000  \n",
       "50%       296.000000  1587.000000        100.00   87.000000  \n",
       "75%       356.250000  1626.000000        100.00   91.250000  \n",
       "max       463.000000  1714.000000        100.00  102.000000  "
      ]
     },
     "execution_count": 3,
     "metadata": {},
     "output_type": "execute_result"
    }
   ],
   "source": [
    "import pandas as pd\n",
    "\n",
    "df_basic = pd.DataFrame.from_csv(\"basic_agent_results.csv\")\n",
    "df_basic.describe()"
   ]
  },
  {
   "cell_type": "markdown",
   "metadata": {},
   "source": [
    "As expected, and agent that takes actions at random is a lousy one. I'm actually surprised it gets to its destination some 20 times on average. The number of penalties is quite large - around 16 per trial on average.\n",
    "\n",
    "Another think to keep in mind: on average, a completely random agent will explore some 87 `(state, action)` pairs in 100 trials. We have $96\\times4=384$ such pairs (the 4 possible actions are `'forward'`, `'left'`, `'right'`, and `None`). So randomly picking actions in a state means exploring, on average, about 23% of `(state, action)` pairs. This number seems low, but maybe a lot of states are quite rare and won't come up even after 100 trials."
   ]
  },
  {
   "cell_type": "markdown",
   "metadata": {},
   "source": [
    "### Perfect Agent Results\n",
    "\n",
    "We can contrast the results of the basic agent with those of an agent that always picks the correct action, given by the `best_action` method defined below:"
   ]
  },
  {
   "cell_type": "code",
   "execution_count": 4,
   "metadata": {
    "collapsed": true
   },
   "outputs": [],
   "source": [
    "def best_action(self, state):\n",
    "    \"\"\"\n",
    "    Returns the best possible action.\n",
    "    \"\"\"        \n",
    "    # retrieve state information\n",
    "    light, oncoming, left, waypoint = state\n",
    "\n",
    "    # retrieve best action        \n",
    "    action = waypoint\n",
    "\n",
    "    # On a red light, the agent can only turn right, and even so only if:\n",
    "    # - no oncoming traffic is going left\n",
    "    # - no traffic from the left is going forward\n",
    "    if light == 'red':\n",
    "        if any([action != 'right', oncoming == 'left', \n",
    "                left == 'forward']):\n",
    "            action = None\n",
    "\n",
    "    # On a green light, the agent cannot turn left if there is\n",
    "    # oncoming traffic going forward or right\n",
    "    elif action == 'left' and (oncoming == 'forward' or oncoming == 'right'):\n",
    "        action = None\n",
    "\n",
    "    return action"
   ]
  },
  {
   "cell_type": "markdown",
   "metadata": {},
   "source": [
    "The perfect agent implementation is [here](https://github.com/lmurtinho/machine-learning/blob/my_projects/projects/smartcab/smartcab/perfect_agent.py). \n",
    "\n",
    "These are the results of the perfect agent:"
   ]
  },
  {
   "cell_type": "code",
   "execution_count": 5,
   "metadata": {
    "collapsed": false
   },
   "outputs": [
    {
     "data": {
      "text/html": [
       "<div>\n",
       "<table border=\"1\" class=\"dataframe\">\n",
       "  <thead>\n",
       "    <tr style=\"text-align: right;\">\n",
       "      <th></th>\n",
       "      <th>reward_sum</th>\n",
       "      <th>disc_reward_sum</th>\n",
       "      <th>n_dest_reached</th>\n",
       "      <th>last_dest_fail</th>\n",
       "      <th>sum_time_left</th>\n",
       "      <th>n_penalties</th>\n",
       "      <th>last_penalty</th>\n",
       "      <th>len_qvals</th>\n",
       "    </tr>\n",
       "  </thead>\n",
       "  <tbody>\n",
       "    <tr>\n",
       "      <th>count</th>\n",
       "      <td>100.000000</td>\n",
       "      <td>100.000000</td>\n",
       "      <td>100.000000</td>\n",
       "      <td>100.000000</td>\n",
       "      <td>100.000000</td>\n",
       "      <td>100.0</td>\n",
       "      <td>100.0</td>\n",
       "      <td>100.000000</td>\n",
       "    </tr>\n",
       "    <tr>\n",
       "      <th>mean</th>\n",
       "      <td>2228.620000</td>\n",
       "      <td>451.682570</td>\n",
       "      <td>99.820000</td>\n",
       "      <td>9.820000</td>\n",
       "      <td>1805.660000</td>\n",
       "      <td>0.0</td>\n",
       "      <td>0.0</td>\n",
       "      <td>22.870000</td>\n",
       "    </tr>\n",
       "    <tr>\n",
       "      <th>std</th>\n",
       "      <td>38.217554</td>\n",
       "      <td>18.893056</td>\n",
       "      <td>0.386123</td>\n",
       "      <td>24.621326</td>\n",
       "      <td>67.826013</td>\n",
       "      <td>0.0</td>\n",
       "      <td>0.0</td>\n",
       "      <td>3.083534</td>\n",
       "    </tr>\n",
       "    <tr>\n",
       "      <th>min</th>\n",
       "      <td>2154.000000</td>\n",
       "      <td>402.383837</td>\n",
       "      <td>99.000000</td>\n",
       "      <td>0.000000</td>\n",
       "      <td>1575.000000</td>\n",
       "      <td>0.0</td>\n",
       "      <td>0.0</td>\n",
       "      <td>14.000000</td>\n",
       "    </tr>\n",
       "    <tr>\n",
       "      <th>25%</th>\n",
       "      <td>2205.000000</td>\n",
       "      <td>437.531399</td>\n",
       "      <td>100.000000</td>\n",
       "      <td>0.000000</td>\n",
       "      <td>1761.750000</td>\n",
       "      <td>0.0</td>\n",
       "      <td>0.0</td>\n",
       "      <td>21.000000</td>\n",
       "    </tr>\n",
       "    <tr>\n",
       "      <th>50%</th>\n",
       "      <td>2226.000000</td>\n",
       "      <td>453.240680</td>\n",
       "      <td>100.000000</td>\n",
       "      <td>0.000000</td>\n",
       "      <td>1810.500000</td>\n",
       "      <td>0.0</td>\n",
       "      <td>0.0</td>\n",
       "      <td>23.000000</td>\n",
       "    </tr>\n",
       "    <tr>\n",
       "      <th>75%</th>\n",
       "      <td>2254.000000</td>\n",
       "      <td>463.830353</td>\n",
       "      <td>100.000000</td>\n",
       "      <td>0.000000</td>\n",
       "      <td>1846.000000</td>\n",
       "      <td>0.0</td>\n",
       "      <td>0.0</td>\n",
       "      <td>25.000000</td>\n",
       "    </tr>\n",
       "    <tr>\n",
       "      <th>max</th>\n",
       "      <td>2350.000000</td>\n",
       "      <td>500.503464</td>\n",
       "      <td>100.000000</td>\n",
       "      <td>99.000000</td>\n",
       "      <td>1988.000000</td>\n",
       "      <td>0.0</td>\n",
       "      <td>0.0</td>\n",
       "      <td>29.000000</td>\n",
       "    </tr>\n",
       "  </tbody>\n",
       "</table>\n",
       "</div>"
      ],
      "text/plain": [
       "        reward_sum  disc_reward_sum  n_dest_reached  last_dest_fail  \\\n",
       "count   100.000000       100.000000      100.000000      100.000000   \n",
       "mean   2228.620000       451.682570       99.820000        9.820000   \n",
       "std      38.217554        18.893056        0.386123       24.621326   \n",
       "min    2154.000000       402.383837       99.000000        0.000000   \n",
       "25%    2205.000000       437.531399      100.000000        0.000000   \n",
       "50%    2226.000000       453.240680      100.000000        0.000000   \n",
       "75%    2254.000000       463.830353      100.000000        0.000000   \n",
       "max    2350.000000       500.503464      100.000000       99.000000   \n",
       "\n",
       "       sum_time_left  n_penalties  last_penalty   len_qvals  \n",
       "count     100.000000        100.0         100.0  100.000000  \n",
       "mean     1805.660000          0.0           0.0   22.870000  \n",
       "std        67.826013          0.0           0.0    3.083534  \n",
       "min      1575.000000          0.0           0.0   14.000000  \n",
       "25%      1761.750000          0.0           0.0   21.000000  \n",
       "50%      1810.500000          0.0           0.0   23.000000  \n",
       "75%      1846.000000          0.0           0.0   25.000000  \n",
       "max      1988.000000          0.0           0.0   29.000000  "
      ]
     },
     "execution_count": 5,
     "metadata": {},
     "output_type": "execute_result"
    }
   ],
   "source": [
    "df_perfect = pd.DataFrame.from_csv(\"perfect_agent_results.csv\")\n",
    "df_perfect.describe()"
   ]
  },
  {
   "cell_type": "markdown",
   "metadata": {},
   "source": [
    "Surprisingly, there are occasions in which this perfect agent does not reach its destination. This may be due to issues with the planner or with bad luck (getting a lot of red lights, for instance). On the other hand, the agent incurs in no penalties whatsoever, which is to be expected.\n",
    "\n",
    "Also note how few `(state, action)` pairs are explored - in fact, something like 1/4 of the explored pairs from the basic agent, which makes sense: for the perfect agent, a state will always be paired with the same (perfect) action, so there are only 96 possibilities for it to explore."
   ]
  },
  {
   "cell_type": "markdown",
   "metadata": {},
   "source": [
    "## Task 3: Implement Q-Learning\n",
    "In this step I return to the basic agent and modify it to learn from its actions."
   ]
  },
  {
   "cell_type": "markdown",
   "metadata": {},
   "source": [
    "### Deciding on the Appropriate Q-learning Function \n",
    "\n",
    "The general form of the $Q$-function is: \n",
    "\n",
    "$Q(s, a) = R(s) + \\gamma\\underset{s'}\\sum T(s,a,s')\\underset{a'}{\\operatorname{max}}Q(s', a')$\n",
    "\n",
    "That is, the $Q$-value for a given `(state, action)` pair is the the reward for that state, $R(s)$, plus the discounted expected value of $Q$ for the next state the agent lands in, considering the transition function $T(s,a,s') = \\Pr( s' \\mid s,a)$ (the probability of landing on state $s'$ coming from state $s$ and performing action $a$) and that, whatever $s'$ is, the agent will maximize $Q$ from there on.\n",
    "\n",
    "The $Q$-learning update function is given by:\n",
    "\n",
    "$\\hat{Q}_t(s, a) = (1 - \\alpha_t)\\hat{Q}_{t-1}(s, a) + \\alpha_t(r + \\gamma\\underset{a'}{\\operatorname{max}}\\hat{Q}_{t-1}(s', a'))$\n",
    "\n",
    "That is, our estimate of the $Q$-value for the `(state, action)` pair is updated with the learning rate ($\\alpha_t$, which varies over time) by the observed reward ($r$) and our previous estimate of the Q-value for the observed next state ($s'$), discounted by the discount factor ($\\gamma$) and considering the agent will pick the action $a'$ that maximizes $Q$ from the next state on.\n",
    "\n",
    "However, in this case there's no need to worry about the future state, since the agent gets an immediate reward for doing the right thing. According to the project description:\n",
    "\n",
    ">The smartcab gets a reward for each successfully completed trip. A trip is considered “successfully completed” if the passenger is dropped off at the desired destination (some intersection) within a pre-specified time bound (computed with a route plan).\n",
    "\n",
    ">It also gets a smaller reward for each correct move executed at an intersection. It gets a small penalty for an incorrect move, and a larger penalty for violating traffic rules and/or causing an accident.\n",
    "\n",
    "So, even though the larger reward is only reaped once the agent reaches its destination, there are smaller rewards for following the correct path, and penalties for not doing so. This should be enough for the agent to learn the best policy.\n",
    "\n",
    "Granted, ignoring the agent's future decisions means I'm not using some information that could be of help. But the upside is a simplification of the problem: it's as if the agent is playing a 1-round game over and over, with immediate rewards for immediate actions. I expect this simplification more than compensates ignoring long-term rewards in this particular setting."
   ]
  },
  {
   "cell_type": "markdown",
   "metadata": {
    "collapsed": true
   },
   "source": [
    "### Q-learning implementation\n",
    "\n",
    "This means I won't actually bother with keeping track of the state the agent ends up in after performing an action (or, to be more technical, I'm setting the discount factor $\\gamma$ to zero). My update function will then simply be $\\hat{Q}_t(s, a) = (1 - \\alpha_t)\\hat{Q}_{t-1}(s, a) + \\alpha_tr$.\n",
    "\n",
    "Here are the `best_action` and `update_qvals` methods that define such an agent:"
   ]
  },
  {
   "cell_type": "code",
   "execution_count": 9,
   "metadata": {
    "collapsed": true
   },
   "outputs": [],
   "source": [
    "def best_action(self, state):\n",
    "    \"\"\"\n",
    "    Returns the best action (the one with the maximum Q-value)\n",
    "    or one of the best actions, given a state.\n",
    "    \"\"\"        \n",
    "    # get all possible q-values for the state\n",
    "    all_qvals = {action: self.qvals.get((state, action), 0)\n",
    "                 for action in self.possible_actions}        \n",
    "\n",
    "    # pick the actions that yield the largest q-value for the state\n",
    "    best_actions = [action for action in self.possible_actions \n",
    "                    if all_qvals[action] == max(all_qvals.values())]\n",
    "\n",
    "    # return one of the best actions at random\n",
    "    return random.choice(best_actions)        \n",
    "\n",
    "def update_qvals(self, state, action, reward):\n",
    "    \"\"\"\n",
    "    Updates the q-value associated with the (state, action) pair\n",
    "    \"\"\"\n",
    "    # define the learning rate for the current time\n",
    "    learn_rate = 1.0 / self.time\n",
    "    \n",
    "    self.qvals[(self.state, action)] = \\\n",
    "        (1 - learn_rate) * self.qvals.get((self.state, action), 0) + \\\n",
    "        learn_rate * reward"
   ]
  },
  {
   "cell_type": "markdown",
   "metadata": {},
   "source": [
    "This implementation can be found [here](https://github.com/lmurtinho/machine-learning/blob/my_projects/projects/smartcab/smartcab/learning_agent.py)"
   ]
  },
  {
   "cell_type": "markdown",
   "metadata": {},
   "source": [
    "### Learning Agent Results\n",
    "\n",
    "Here are the results for this learning agent:"
   ]
  },
  {
   "cell_type": "code",
   "execution_count": 10,
   "metadata": {
    "collapsed": false
   },
   "outputs": [
    {
     "data": {
      "text/html": [
       "<div>\n",
       "<table border=\"1\" class=\"dataframe\">\n",
       "  <thead>\n",
       "    <tr style=\"text-align: right;\">\n",
       "      <th></th>\n",
       "      <th>reward_sum</th>\n",
       "      <th>disc_reward_sum</th>\n",
       "      <th>n_dest_reached</th>\n",
       "      <th>last_dest_fail</th>\n",
       "      <th>sum_time_left</th>\n",
       "      <th>n_penalties</th>\n",
       "      <th>last_penalty</th>\n",
       "      <th>len_qvals</th>\n",
       "    </tr>\n",
       "  </thead>\n",
       "  <tbody>\n",
       "    <tr>\n",
       "      <th>count</th>\n",
       "      <td>100.000000</td>\n",
       "      <td>100.000000</td>\n",
       "      <td>100.000000</td>\n",
       "      <td>100.000000</td>\n",
       "      <td>100.000000</td>\n",
       "      <td>100.000000</td>\n",
       "      <td>100.000000</td>\n",
       "      <td>100.00000</td>\n",
       "    </tr>\n",
       "    <tr>\n",
       "      <th>mean</th>\n",
       "      <td>2221.075000</td>\n",
       "      <td>420.823540</td>\n",
       "      <td>98.970000</td>\n",
       "      <td>15.620000</td>\n",
       "      <td>1743.520000</td>\n",
       "      <td>33.440000</td>\n",
       "      <td>92.580000</td>\n",
       "      <td>52.04000</td>\n",
       "    </tr>\n",
       "    <tr>\n",
       "      <th>std</th>\n",
       "      <td>41.377809</td>\n",
       "      <td>23.073574</td>\n",
       "      <td>3.310391</td>\n",
       "      <td>28.086008</td>\n",
       "      <td>99.515948</td>\n",
       "      <td>15.996414</td>\n",
       "      <td>7.487606</td>\n",
       "      <td>6.32283</td>\n",
       "    </tr>\n",
       "    <tr>\n",
       "      <th>min</th>\n",
       "      <td>2134.500000</td>\n",
       "      <td>347.789034</td>\n",
       "      <td>67.000000</td>\n",
       "      <td>0.000000</td>\n",
       "      <td>1184.000000</td>\n",
       "      <td>21.000000</td>\n",
       "      <td>71.000000</td>\n",
       "      <td>36.00000</td>\n",
       "    </tr>\n",
       "    <tr>\n",
       "      <th>25%</th>\n",
       "      <td>2192.000000</td>\n",
       "      <td>406.123735</td>\n",
       "      <td>99.000000</td>\n",
       "      <td>0.000000</td>\n",
       "      <td>1687.750000</td>\n",
       "      <td>27.750000</td>\n",
       "      <td>88.000000</td>\n",
       "      <td>47.75000</td>\n",
       "    </tr>\n",
       "    <tr>\n",
       "      <th>50%</th>\n",
       "      <td>2217.250000</td>\n",
       "      <td>420.593730</td>\n",
       "      <td>99.000000</td>\n",
       "      <td>1.000000</td>\n",
       "      <td>1743.500000</td>\n",
       "      <td>31.000000</td>\n",
       "      <td>96.000000</td>\n",
       "      <td>52.00000</td>\n",
       "    </tr>\n",
       "    <tr>\n",
       "      <th>75%</th>\n",
       "      <td>2239.250000</td>\n",
       "      <td>434.152134</td>\n",
       "      <td>100.000000</td>\n",
       "      <td>21.500000</td>\n",
       "      <td>1802.000000</td>\n",
       "      <td>34.000000</td>\n",
       "      <td>98.000000</td>\n",
       "      <td>56.00000</td>\n",
       "    </tr>\n",
       "    <tr>\n",
       "      <th>max</th>\n",
       "      <td>2353.500000</td>\n",
       "      <td>476.945379</td>\n",
       "      <td>100.000000</td>\n",
       "      <td>99.000000</td>\n",
       "      <td>1923.000000</td>\n",
       "      <td>166.000000</td>\n",
       "      <td>100.000000</td>\n",
       "      <td>67.00000</td>\n",
       "    </tr>\n",
       "  </tbody>\n",
       "</table>\n",
       "</div>"
      ],
      "text/plain": [
       "        reward_sum  disc_reward_sum  n_dest_reached  last_dest_fail  \\\n",
       "count   100.000000       100.000000      100.000000      100.000000   \n",
       "mean   2221.075000       420.823540       98.970000       15.620000   \n",
       "std      41.377809        23.073574        3.310391       28.086008   \n",
       "min    2134.500000       347.789034       67.000000        0.000000   \n",
       "25%    2192.000000       406.123735       99.000000        0.000000   \n",
       "50%    2217.250000       420.593730       99.000000        1.000000   \n",
       "75%    2239.250000       434.152134      100.000000       21.500000   \n",
       "max    2353.500000       476.945379      100.000000       99.000000   \n",
       "\n",
       "       sum_time_left  n_penalties  last_penalty  len_qvals  \n",
       "count     100.000000   100.000000    100.000000  100.00000  \n",
       "mean     1743.520000    33.440000     92.580000   52.04000  \n",
       "std        99.515948    15.996414      7.487606    6.32283  \n",
       "min      1184.000000    21.000000     71.000000   36.00000  \n",
       "25%      1687.750000    27.750000     88.000000   47.75000  \n",
       "50%      1743.500000    31.000000     96.000000   52.00000  \n",
       "75%      1802.000000    34.000000     98.000000   56.00000  \n",
       "max      1923.000000   166.000000    100.000000   67.00000  "
      ]
     },
     "execution_count": 10,
     "metadata": {},
     "output_type": "execute_result"
    }
   ],
   "source": [
    "import pandas as pd\n",
    "\n",
    "df_learning = pd.DataFrame.from_csv(\"learning_agent_results.csv\")\n",
    "df_learning.describe()"
   ]
  },
  {
   "cell_type": "markdown",
   "metadata": {},
   "source": [
    "These are really good results! The average and median number of destinations reached are actually comparable to the perfect agent's (see above). Let's see how frequent it is to get a late failure at reaching a destination:"
   ]
  },
  {
   "cell_type": "code",
   "execution_count": 11,
   "metadata": {
    "collapsed": false
   },
   "outputs": [
    {
     "name": "stdout",
     "output_type": "stream",
     "text": [
      "Number of learning agent simulations with failure to reach destination after 90 trials: 5/100\n"
     ]
    }
   ],
   "source": [
    "print \"Number of learning agent simulations with failure to \\\n",
    "reach destination after 90 trials: {}/100\".format(sum(df_learning['last_dest_fail'] > 90))"
   ]
  },
  {
   "cell_type": "markdown",
   "metadata": {},
   "source": [
    "Only 5 times in 100 simulations is there a failure at the last 10 trials. Let's compare this with the perfect agent result:"
   ]
  },
  {
   "cell_type": "code",
   "execution_count": 13,
   "metadata": {
    "collapsed": false
   },
   "outputs": [
    {
     "name": "stdout",
     "output_type": "stream",
     "text": [
      "Number of perfect agent simulations with failure to reach destination after 90 trials: 4/100\n"
     ]
    }
   ],
   "source": [
    "print \"Number of perfect agent simulations with failure to \\\n",
    "reach destination after 90 trials: {}/100\".format(sum(df_perfect['last_dest_fail'] > 90))"
   ]
  },
  {
   "cell_type": "markdown",
   "metadata": {},
   "source": [
    "Quite close. Also note that when it comes to exploring the state space this is an agent that stays between the perfect agent (that has little time for exploration) and the basic agent (that does nothing but explore at random), with an average of 52 `(state, action)` pairs explored.\n",
    "\n",
    "If there's room for improvement in this agent, it's in the `last_penalty` variable: in over 75% of the simulations, the agent incurred in at least one penalty in the last 13 trials. On the bright side, 75% of simulations had 34 penalties or fewer - thats 0.34 penalties per trial, or 1 penalty for every 3 trials, which seems quite good specially considering there must be more penalties during the early trials, when the agent knows next to nothing about the world."
   ]
  },
  {
   "cell_type": "markdown",
   "metadata": {},
   "source": [
    "## Task 4: Enhance the Driving Agent\n",
    "\n",
    "The last task, according to the project description, is:\n",
    "\n",
    "> Apply the reinforcement learning techniques you have learnt, and tweak the parameters (e.g. learning rate, discount factor, action selection method, etc.), to improve the performance of your agent. Your goal is to get it to a point so that within 100 trials, the agent is able to learn a feasible policy - i.e. reach the destination within the allotted time, with net reward remaining positive.\n",
    "\n",
    "As seen above, this goal has already been reached! But, as also previously discussed, there is still room for improvement, particulary regarding late penalties to the agent.\n",
    "\n",
    "According to [one of the videos](https://www.udacity.com/course/viewer#!/c-ud728-nd/l-5446820041/m-634899064) in the Reinforcement Learning course, there are three characteristics that can modify a Q-learning algorithm:\n",
    "\n",
    "- How Q-values are initialized\n",
    "- How the learning rate decays\n",
    "- How the action is picked\n",
    "\n",
    "I'll change each one of these three characteristics at a time, and then I'll tackle everything at once to see it I can get a better learning agent."
   ]
  },
  {
   "cell_type": "markdown",
   "metadata": {},
   "source": [
    "### Changing Initial Q-Values\n",
    "\n",
    "One Q-learning implementation briefly discussed in the Reinforcement Learning lessons for this project is \"optimism in the face of uncertainty\". The idea is that high initial Q-values (implying an \"optimistic\" agent in the sense that it initially believes all possible actions will yield excellent rewards) lead to an explorative agent, because it will delay exploiting familiar paths, since those will end up with lower Q-values than its initial estimate.\n",
    "\n",
    "All it takes for the learning agent above to become optimistic is changing the value it gets when the `(state, action)` pair is not yet a key in `qvals` (that is, when the pair is seen for the first time):"
   ]
  },
  {
   "cell_type": "code",
   "execution_count": 15,
   "metadata": {
    "collapsed": true
   },
   "outputs": [],
   "source": [
    "import random\n",
    "\n",
    "def best_action(self, state):\n",
    "    \"\"\"\n",
    "    Returns the best action (the one with the maximum Q-value)\n",
    "    or one of the best actions, given a state, being\n",
    "    optimistic in the face of uncertainty.\n",
    "    \"\"\"        \n",
    "    # get all possible q-values for the state\n",
    "    # (be optimistic in the face of uncertainty)\n",
    "    all_qvals = {action: self.qvals.get((state, action), 100)\n",
    "                 for action in self.possible_actions}        \n",
    "\n",
    "    # pick the actions that yield the largest q-value for the state\n",
    "    best_actions = [action for action in self.possible_actions \n",
    "                    if all_qvals[action] == max(all_qvals.values())]\n",
    "\n",
    "    # return one of the best actions at random\n",
    "    return random.choice(best_actions)        "
   ]
  },
  {
   "cell_type": "markdown",
   "metadata": {},
   "source": [
    "Instead of getting a 0 for previously unknown `(state, action)` pairs, the agent now gets a breathtaking 100, which is way more than even getting to the destination. So, it has more of an incentive to investigate new paths. (The implementation is [here](https://github.com/lmurtinho/machine-learning/blob/my_projects/projects/smartcab/smartcab/optimistic_agent.py).)\n",
    "\n",
    "I thought about also modifying the `update_qvals` method to incorporate the initial optimistic Q-value to the updates, but that's unnecessary, since the point of optimistic initialization is to get the agent to test a given action in a given state. Once it has tested it, there's no need to use that initial optimistic value for anything. (It might be a different story if I were taking future states and actions into account, since then dropping the value of a `(state, action)` pair might mean very shallow observations of many possibilities.)"
   ]
  },
  {
   "cell_type": "markdown",
   "metadata": {},
   "source": [
    "These are the results for running 100 simulations of 100 trials each with this optimistic agent:"
   ]
  },
  {
   "cell_type": "code",
   "execution_count": 16,
   "metadata": {
    "collapsed": false
   },
   "outputs": [
    {
     "data": {
      "text/html": [
       "<div>\n",
       "<table border=\"1\" class=\"dataframe\">\n",
       "  <thead>\n",
       "    <tr style=\"text-align: right;\">\n",
       "      <th></th>\n",
       "      <th>reward_sum</th>\n",
       "      <th>disc_reward_sum</th>\n",
       "      <th>n_dest_reached</th>\n",
       "      <th>last_dest_fail</th>\n",
       "      <th>sum_time_left</th>\n",
       "      <th>n_penalties</th>\n",
       "      <th>last_penalty</th>\n",
       "      <th>len_qvals</th>\n",
       "    </tr>\n",
       "  </thead>\n",
       "  <tbody>\n",
       "    <tr>\n",
       "      <th>count</th>\n",
       "      <td>100.000000</td>\n",
       "      <td>100.000000</td>\n",
       "      <td>100.000000</td>\n",
       "      <td>100.000000</td>\n",
       "      <td>100.000000</td>\n",
       "      <td>100.000000</td>\n",
       "      <td>100.000000</td>\n",
       "      <td>100.000000</td>\n",
       "    </tr>\n",
       "    <tr>\n",
       "      <th>mean</th>\n",
       "      <td>2226.535000</td>\n",
       "      <td>411.486502</td>\n",
       "      <td>98.750000</td>\n",
       "      <td>28.580000</td>\n",
       "      <td>1743.230000</td>\n",
       "      <td>39.470000</td>\n",
       "      <td>94.090000</td>\n",
       "      <td>63.780000</td>\n",
       "    </tr>\n",
       "    <tr>\n",
       "      <th>std</th>\n",
       "      <td>43.024849</td>\n",
       "      <td>18.795427</td>\n",
       "      <td>1.028631</td>\n",
       "      <td>35.816925</td>\n",
       "      <td>84.614498</td>\n",
       "      <td>7.053125</td>\n",
       "      <td>5.818978</td>\n",
       "      <td>6.730873</td>\n",
       "    </tr>\n",
       "    <tr>\n",
       "      <th>min</th>\n",
       "      <td>2124.500000</td>\n",
       "      <td>371.443327</td>\n",
       "      <td>95.000000</td>\n",
       "      <td>0.000000</td>\n",
       "      <td>1550.000000</td>\n",
       "      <td>28.000000</td>\n",
       "      <td>74.000000</td>\n",
       "      <td>50.000000</td>\n",
       "    </tr>\n",
       "    <tr>\n",
       "      <th>25%</th>\n",
       "      <td>2199.500000</td>\n",
       "      <td>398.500547</td>\n",
       "      <td>98.000000</td>\n",
       "      <td>1.000000</td>\n",
       "      <td>1693.000000</td>\n",
       "      <td>35.000000</td>\n",
       "      <td>92.750000</td>\n",
       "      <td>58.750000</td>\n",
       "    </tr>\n",
       "    <tr>\n",
       "      <th>50%</th>\n",
       "      <td>2227.750000</td>\n",
       "      <td>410.429189</td>\n",
       "      <td>99.000000</td>\n",
       "      <td>2.000000</td>\n",
       "      <td>1739.500000</td>\n",
       "      <td>39.000000</td>\n",
       "      <td>96.000000</td>\n",
       "      <td>64.000000</td>\n",
       "    </tr>\n",
       "    <tr>\n",
       "      <th>75%</th>\n",
       "      <td>2251.750000</td>\n",
       "      <td>425.188531</td>\n",
       "      <td>99.000000</td>\n",
       "      <td>57.250000</td>\n",
       "      <td>1802.250000</td>\n",
       "      <td>43.000000</td>\n",
       "      <td>99.000000</td>\n",
       "      <td>69.000000</td>\n",
       "    </tr>\n",
       "    <tr>\n",
       "      <th>max</th>\n",
       "      <td>2327.000000</td>\n",
       "      <td>466.940263</td>\n",
       "      <td>100.000000</td>\n",
       "      <td>100.000000</td>\n",
       "      <td>2039.000000</td>\n",
       "      <td>81.000000</td>\n",
       "      <td>100.000000</td>\n",
       "      <td>80.000000</td>\n",
       "    </tr>\n",
       "  </tbody>\n",
       "</table>\n",
       "</div>"
      ],
      "text/plain": [
       "        reward_sum  disc_reward_sum  n_dest_reached  last_dest_fail  \\\n",
       "count   100.000000       100.000000      100.000000      100.000000   \n",
       "mean   2226.535000       411.486502       98.750000       28.580000   \n",
       "std      43.024849        18.795427        1.028631       35.816925   \n",
       "min    2124.500000       371.443327       95.000000        0.000000   \n",
       "25%    2199.500000       398.500547       98.000000        1.000000   \n",
       "50%    2227.750000       410.429189       99.000000        2.000000   \n",
       "75%    2251.750000       425.188531       99.000000       57.250000   \n",
       "max    2327.000000       466.940263      100.000000      100.000000   \n",
       "\n",
       "       sum_time_left  n_penalties  last_penalty   len_qvals  \n",
       "count     100.000000   100.000000    100.000000  100.000000  \n",
       "mean     1743.230000    39.470000     94.090000   63.780000  \n",
       "std        84.614498     7.053125      5.818978    6.730873  \n",
       "min      1550.000000    28.000000     74.000000   50.000000  \n",
       "25%      1693.000000    35.000000     92.750000   58.750000  \n",
       "50%      1739.500000    39.000000     96.000000   64.000000  \n",
       "75%      1802.250000    43.000000     99.000000   69.000000  \n",
       "max      2039.000000    81.000000    100.000000   80.000000  "
      ]
     },
     "execution_count": 16,
     "metadata": {},
     "output_type": "execute_result"
    }
   ],
   "source": [
    "df_optimistic = pd.DataFrame.from_csv(\"optimistic_agent_results.csv\")\n",
    "df_optimistic.describe()"
   ]
  },
  {
   "cell_type": "code",
   "execution_count": 17,
   "metadata": {
    "collapsed": false
   },
   "outputs": [
    {
     "name": "stdout",
     "output_type": "stream",
     "text": [
      "Number of optimistic agent simulations with failure to reach destination after 90 trials: 12/100\n"
     ]
    }
   ],
   "source": [
    "print \"Number of optimistic agent simulations with failure to \\\n",
    "reach destination after 90 trials: {}/100\".format(sum(df_optimistic['last_dest_fail'] > 90))"
   ]
  },
  {
   "cell_type": "markdown",
   "metadata": {},
   "source": [
    "The results of the optimistic agent are somewhat comparable to those of the original learning agent. The main difference is that the number of penalties is somewhat larger, as well as the number of `(state, action)` pairs explored. One thing has to do with another, obviously: exploring more means more chance of getting negative results. When it comes to `last_penalty`, however, optimistic initialization alone does not bring better results than the previous implementation. And the optimistic agent seems more prone to fail to reach a destination even after 90 trials."
   ]
  },
  {
   "cell_type": "markdown",
   "metadata": {},
   "source": [
    "### Modifying the Learning Rate Decay\n",
    "\n",
    "My `learn_rate` variable is the inverse of my `time` variable - that is, when `time` is 1, `learn_rate` is 1/1; when `time` is 2, `learn_rate` is 1/2, and so on.\n",
    "\n",
    "This drop seems very steep, but it can be modified. I decided to use the following equation to do so:"
   ]
  },
  {
   "cell_type": "code",
   "execution_count": 20,
   "metadata": {
    "collapsed": false
   },
   "outputs": [],
   "source": [
    "def learn_rate(mult, time):\n",
    "    return 1.0 / (1 + mult * time)"
   ]
  },
  {
   "cell_type": "markdown",
   "metadata": {},
   "source": [
    "That means the learning rate will begin at 1 when `time` is zero, but its decrease will be a function of both `time` and the `mult` factor. If `mult = 1`, the learning rate is the inverse of `time` (assuming `time` starts at zero).\n",
    "\n",
    "Since I think the drop in the learning rate is steep enough when `mult = 1`, I won't bother with larger values of it, which would only magnify the drop. Instead, I'll work with 10 values of `mult`, from 1 to 0.001.\n",
    "\n",
    "My prior on this experiment is actually that the learning rate will not have a significant impact on the learner. Because of how the rewards are structured (immediate negative rewards for incorrect or illegal moves, immediate positive rewards for the correct legal move, zero for staying put), and since only one action is correct at any one point, the rewards very quickly should take the following pattern:\n",
    "\n",
    "- incorrect/illegal moves: minus something\n",
    "- staying put: zero\n",
    "- correct legal move: plus something\n",
    "\n",
    "What `something` is does not really matter: the correct legal move will always win out.\n",
    "\n",
    "The only way I can think for something to go wrong is if an agent performs an incorrect move that *immediately takes it to the destination*. In this scenario, the positive reward for reaching the destination would overwhelm the negative reward for making an incorrect move, and, if the learning rate drops too quickly, no future penalties would be able to revert this. But, considering the simulation does not allow illegal moves (the agent takes the penalty for trying something illegal, but stays put), how would a legal move that takes the agent to the destination be an incorrect one?\n",
    "\n",
    "Anyway, the point here is that I think tweaking with the learning rate will not be of much use given the rewards, the behavior of the agent and the states I came up with. Let's see if I'm right.\n",
    "\n",
    "This is the `update_qvals()` function for the learning agent with different learning rates (`best_action()` stays the same):"
   ]
  },
  {
   "cell_type": "code",
   "execution_count": 21,
   "metadata": {
    "collapsed": true
   },
   "outputs": [],
   "source": [
    "def update_qvals(self, state, action, reward):\n",
    "    \"\"\"\n",
    "    Updates the q-value associated with the (state, action) pair\n",
    "    \"\"\"\n",
    "    # define the learning rate for the current time\n",
    "    learn_rate = 1.0 / (1 + self.mult*self.time)\n",
    "\n",
    "    self.qvals[(self.state, action)] = \\\n",
    "        (1 - learn_rate) * self.qvals.get((self.state, action), 0) + \\\n",
    "        learn_rate * reward"
   ]
  },
  {
   "cell_type": "markdown",
   "metadata": {},
   "source": [
    "And this is the way I came up with to run the code using different values for `mult`:"
   ]
  },
  {
   "cell_type": "code",
   "execution_count": 24,
   "metadata": {
    "collapsed": false
   },
   "outputs": [],
   "source": [
    "import pandas\n",
    "\n",
    "def run(mult): # in the code this runs the simulation and passes mult along to the agent\n",
    "    pass\n",
    "\n",
    "def go(): # in the actual code this is if __name__ = '__main__':\n",
    "    mults = [1, 0.5, 0.3, 0.1, 0.05, 0.03, 0.01, 0.005, 0.003, 0.001]\n",
    "    for mult in mults:\n",
    "        idx = mults.index(mult)\n",
    "        results = []\n",
    "        for i in range(100):\n",
    "            sim_results = run(mult)\n",
    "            results.append(sim_results)\n",
    "        df_results = pd.DataFrame(results)\n",
    "        df_results.columns = ['reward_sum', 'disc_reward_sum', 'n_dest_reached',\n",
    "                              'last_dest_fail', 'sum_time_left', 'n_penalties',\n",
    "                              'last_penalty', 'len_qvals']\n",
    "        df_results.to_csv('rate_change_agent_{}_results.csv'.format(idx))"
   ]
  },
  {
   "cell_type": "markdown",
   "metadata": {},
   "source": [
    "The code for studying changes in learning rates is [here](https://github.com/lmurtinho/machine-learning/blob/my_projects/projects/smartcab/smartcab/rate_change_agent.py).\n",
    "\n",
    "Let's see the results for these different learning agents with different learning rates - this time using plots to make it easier to compare values."
   ]
  },
  {
   "cell_type": "code",
   "execution_count": 38,
   "metadata": {
    "collapsed": false
   },
   "outputs": [],
   "source": [
    "import matplotlib.pyplot as plt\n",
    "import seaborn as sns\n",
    "\n",
    "%matplotlib inline\n",
    "\n",
    "#plt.rcParams['figure.figsize'] = [15, 10]\n",
    "plt.rcParams['axes.titlesize'] = 16\n",
    "plt.rcParams['ytick.labelsize'] = plt.rcParams['xtick.labelsize'] = 12"
   ]
  },
  {
   "cell_type": "code",
   "execution_count": 56,
   "metadata": {
    "collapsed": false
   },
   "outputs": [
    {
     "data": {
      "image/png": "[encoded data removed]",
      "text/plain": [
       "<matplotlib.figure.Figure at 0xcfcb6d8>"
      ]
     },
     "metadata": {},
     "output_type": "display_data"
    },
    {
     "data": {
      "image/png": "[encoded data removed]",
      "text/plain": [
       "<matplotlib.figure.Figure at 0xd716908>"
      ]
     },
     "metadata": {},
     "output_type": "display_data"
    },
    {
     "data": {
      "image/png": "[encoded data removed]",
      "text/plain": [
       "<matplotlib.figure.Figure at 0xb615b00>"
      ]
     },
     "metadata": {},
     "output_type": "display_data"
    },
    {
     "data": {
      "image/png": "[encoded data removed]",
      "text/plain": [
       "<matplotlib.figure.Figure at 0xcfe74a8>"
      ]
     },
     "metadata": {},
     "output_type": "display_data"
    },
    {
     "data": {
      "image/png": "[encoded data removed]",
      "text/plain": [
       "<matplotlib.figure.Figure at 0xcf63128>"
      ]
     },
     "metadata": {},
     "output_type": "display_data"
    },
    {
     "data": {
      "image/png": "[encoded data removed]",
      "text/plain": [
       "<matplotlib.figure.Figure at 0xd00fbe0>"
      ]
     },
     "metadata": {},
     "output_type": "display_data"
    },
    {
     "data": {
      "image/png": "[encoded data removed]",
      "text/plain": [
       "<matplotlib.figure.Figure at 0xb137668>"
      ]
     },
     "metadata": {},
     "output_type": "display_data"
    },
    {
     "data": {
      "image/png": "[encoded data removed]",
      "text/plain": [
       "<matplotlib.figure.Figure at 0xb2e8a90>"
      ]
     },
     "metadata": {},
     "output_type": "display_data"
    }
   ],
   "source": [
    "learning_rate_results = {str(i): pd.DataFrame.from_csv('rate_change_agent_{}_results.csv'.format(i))\n",
    "                         for i in range(10)}\n",
    "\n",
    "rate_panel = pd.Panel.from_dict(learning_rate_results)\n",
    "for column in df_learning.columns:\n",
    "    sns.boxplot(data=rate_panel.minor_xs(column))\n",
    "    plt.title(column)\n",
    "    plt.show()\n",
    "    plt.close()"
   ]
  },
  {
   "cell_type": "code",
   "execution_count": 55,
   "metadata": {
    "collapsed": false
   },
   "outputs": [
    {
     "data": {
      "text/plain": [
       "0    4\n",
       "1    4\n",
       "2    7\n",
       "3    3\n",
       "4    3\n",
       "5    3\n",
       "6    1\n",
       "7    2\n",
       "8    3\n",
       "9    3\n",
       "dtype: int64"
      ]
     },
     "execution_count": 55,
     "metadata": {},
     "output_type": "execute_result"
    }
   ],
   "source": [
    "rate_panel.minor_xs('last_dest_fail').apply(lambda x: sum(x>90))"
   ]
  },
  {
   "cell_type": "markdown",
   "metadata": {},
   "source": [
    "My prior has become stronger: for this agent, tweaking the learning rate doesn't do much. `last_penalty`, in particular, remains (on average) as high as it was before."
   ]
  },
  {
   "cell_type": "markdown",
   "metadata": {},
   "source": [
    "## Randomly Picking Actions\n",
    "\n",
    "Another possibility to tweak the learning agent is making it pick actions at random from time to time. The following `best_action()` function does just that:"
   ]
  },
  {
   "cell_type": "code",
   "execution_count": 41,
   "metadata": {
    "collapsed": true
   },
   "outputs": [],
   "source": [
    "def best_action(self, state):\n",
    "    \"\"\"\n",
    "    Returns the best action (the one with the maximum Q-value)\n",
    "    or a random action\n",
    "    \"\"\"\n",
    "    # get the rate of random values at this point in time\n",
    "    random_rate = 1.0 - self.time * self.eps\n",
    "\n",
    "    # if random number smaller than random rate, \n",
    "    # the agent picks an unexplored action at the current state\n",
    "    if random.random() < random_rate:\n",
    "        unexplored_actions = [action for action in self.possible_actions\n",
    "                              if (state, action) not in self.qvals.keys()]\n",
    "        if unexplored_actions:\n",
    "            actions = unexplored_actions\n",
    "        else: # if no actions are unexplored in this state, pick any action\n",
    "            actions = self.possible_actions\n",
    "\n",
    "    else:\n",
    "        # get all possible q-values for the state\n",
    "        # (be optimistic in the face of uncertainty)\n",
    "        all_qvals = {action: self.qvals.get((state, action), 100)\n",
    "                     for action in self.possible_actions}        \n",
    "\n",
    "        # pick the actions that yield the largest q-value for the state\n",
    "        actions = [action for action in self.possible_actions \n",
    "                   if all_qvals[action] == max(all_qvals.values())]\n",
    "\n",
    "    # return one of the actions at random\n",
    "    return random.choice(actions)"
   ]
  },
  {
   "cell_type": "markdown",
   "metadata": {},
   "source": [
    "(When picking at random, the agent will pick, if possible, an action that hasn't been performed yet given the state. This increases the exploratory nature of the agent somewhat.)\n",
    "\n",
    "The larger `random_rate`, the more probable it is that the agent will pick an action at random. `eps` is the variable that governs how fast this probability drops, much like `mult` governed how fast the learning rate would drop in the implementation above. \n",
    "\n",
    "Note that at some point `self.time * self.eps` will be larger than 1, and `random.rate` will drop below zero, meaning it will be impossible for the agent to pick an action at random. The idea is that at some point the agent will end its exploratory activity completely, and dedicate itself to exploiting what it's learned. It is possible to modify the formula for `learn_rate` so that a small chance of randomness remains (using something like the formula for `learn_rate` in the previous implementation), but in a setting such as teaching a smartcab to drive at some point you want to completely rule out random actions that translate to a larger chance of performing an illegal move, for instance.\n",
    "\n",
    "I ran several simulations with different values for `eps` using pretty much the same code as the one to vary learning rates:"
   ]
  },
  {
   "cell_type": "code",
   "execution_count": 42,
   "metadata": {
    "collapsed": false
   },
   "outputs": [],
   "source": [
    "import pandas\n",
    "\n",
    "def run(eps): # in the code this runs the simulation and passes mult along to the agent\n",
    "    pass\n",
    "\n",
    "def go(): # in the actual code this is if __name__ = '__main__':\n",
    "    epses = [1, 0.5, 0.3, 0.1, 0.05, 0.03, 0.01, 0.005, 0.003, 0.001]\n",
    "    for eps in epses:\n",
    "        idx = epses.index(eps)\n",
    "        results = []\n",
    "        for i in range(100):\n",
    "            sim_results = run(eps)\n",
    "            results.append(sim_results)\n",
    "        df_results = pd.DataFrame(results)\n",
    "        df_results.columns = ['reward_sum', 'disc_reward_sum', 'n_dest_reached',\n",
    "                              'last_dest_fail', 'sum_time_left', 'n_penalties',\n",
    "                              'last_penalty', 'len_qvals']\n",
    "        df_results.to_csv('learning_random_agent_{}_results.csv'.format(idx))"
   ]
  },
  {
   "cell_type": "markdown",
   "metadata": {},
   "source": [
    "And here are the results:"
   ]
  },
  {
   "cell_type": "code",
   "execution_count": 57,
   "metadata": {
    "collapsed": false
   },
   "outputs": [
    {
     "data": {
      "image/png": "[encoded data removed]",
      "text/plain": [
       "<matplotlib.figure.Figure at 0xd311160>"
      ]
     },
     "metadata": {},
     "output_type": "display_data"
    },
    {
     "data": {
      "image/png": "[encoded data removed]",
      "text/plain": [
       "<matplotlib.figure.Figure at 0xd6a2ac8>"
      ]
     },
     "metadata": {},
     "output_type": "display_data"
    },
    {
     "data": {
      "image/png": "[encoded data removed]",
      "text/plain": [
       "<matplotlib.figure.Figure at 0xce99e80>"
      ]
     },
     "metadata": {},
     "output_type": "display_data"
    },
    {
     "data": {
      "image/png": "[encoded data removed]",
      "text/plain": [
       "<matplotlib.figure.Figure at 0xb95ec50>"
      ]
     },
     "metadata": {},
     "output_type": "display_data"
    },
    {
     "data": {
      "image/png": "[encoded data removed]",
      "text/plain": [
       "<matplotlib.figure.Figure at 0xd602be0>"
      ]
     },
     "metadata": {},
     "output_type": "display_data"
    },
    {
     "data": {
      "image/png": "[encoded data removed]",
      "text/plain": [
       "<matplotlib.figure.Figure at 0xbde82e8>"
      ]
     },
     "metadata": {},
     "output_type": "display_data"
    },
    {
     "data": {
      "image/png": "[encoded data removed]",
      "text/plain": [
       "<matplotlib.figure.Figure at 0xcfcb160>"
      ]
     },
     "metadata": {},
     "output_type": "display_data"
    },
    {
     "data": {
      "image/png": "[encoded data removed]",
      "text/plain": [
       "<matplotlib.figure.Figure at 0xd40de80>"
      ]
     },
     "metadata": {},
     "output_type": "display_data"
    }
   ],
   "source": [
    "learning_random_results = {str(i): pd.DataFrame.from_csv('learning_random_agent_{}_results.csv'.format(i))\n",
    "                         for i in range(10)}\n",
    "\n",
    "random_panel = pd.Panel.from_dict(learning_random_results)\n",
    "for column in df_learning.columns:\n",
    "    sns.boxplot(data=random_panel.minor_xs(column))\n",
    "    plt.title(column)\n",
    "    plt.show()\n",
    "    plt.close()"
   ]
  },
  {
   "cell_type": "code",
   "execution_count": 58,
   "metadata": {
    "collapsed": false
   },
   "outputs": [
    {
     "data": {
      "text/plain": [
       "0    2\n",
       "1    5\n",
       "2    6\n",
       "3    4\n",
       "4    5\n",
       "5    7\n",
       "6    9\n",
       "7    4\n",
       "8    3\n",
       "9    4\n",
       "dtype: int64"
      ]
     },
     "execution_count": 58,
     "metadata": {},
     "output_type": "execute_result"
    }
   ],
   "source": [
    "random_panel.minor_xs('last_dest_fail').apply(lambda x: sum(x>90))"
   ]
  },
  {
   "cell_type": "markdown",
   "metadata": {},
   "source": [
    "Agents with a smaller `eps` (that is, a larger propensity to explore at random) perform clearly worse in terms of rewards, destinations reached and number of penalties. They do, however, tend to explore more of the state space. Which suggests that maybe the exploration-exploitation dilemma is not that large of an issue in this setting: the original learning agent is not very exploratory, but exploring more does not have a clear upside."
   ]
  },
  {
   "cell_type": "code",
   "execution_count": null,
   "metadata": {
    "collapsed": true
   },
   "outputs": [],
   "source": []
  }
 ],
 "metadata": {
  "kernelspec": {
   "display_name": "Python 2",
   "language": "python",
   "name": "python2"
  },
  "language_info": {
   "codemirror_mode": {
    "name": "ipython",
    "version": 2
   },
   "file_extension": ".py",
   "mimetype": "text/x-python",
   "name": "python",
   "nbconvert_exporter": "python",
   "pygments_lexer": "ipython2",
   "version": "2.7.11"
  }
 },
 "nbformat": 4,
 "nbformat_minor": 0
}
