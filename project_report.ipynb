{
 "cells": [
  {
   "cell_type": "markdown",
   "metadata": {},
   "source": [
    "# Project 4 Report\n",
    "\n",
    "This is my report by Project 4 of the Machine Learning Engineer Nanodegree - **Teach a Smartcab How to Drive**. In this project I used reinforcement learning techniques to teach an engine how to play a simple game of reaching a destination on a grid-like world given some restrictions. The project description can be found [here](https://classroom.udacity.com/nanodegrees/nd009/parts/0091345409/modules/540405889375461/lessons/5404058893239847/concepts/54440204820923), and my code for the project is on [this github repo](https://github.com/lmurtinho/machine-learning/tree/my_projects/projects/smartcab)."
   ]
  },
  {
   "cell_type": "markdown",
   "metadata": {},
   "source": [
    "## Rules of the Game\n",
    "\n",
    "Our agent should get to its destination on time and respect the following traffic rules:\n",
    "\n",
    "- If the light is red, the agent generally cannot move - but it can turn right when there is no traffic from the left going forward and no oncoming traffic turning left\n",
    "- If the light is green, the agent generally can move - but it cannot turn left when there is oncoming traffic going forward or turning right\n",
    "\n",
    "At each moment in the game, the agent can go forward, turn right, turn left, or do nothing."
   ]
  },
  {
   "cell_type": "markdown",
   "metadata": {},
   "source": [
    "## Task 1: Implement a Basic Driving Agent\n",
    "\n",
    "According to the project's instructions, the basic driving agent should \"produce some random move/action.\" That's easy enough with something like this: "
   ]
  },
  {
   "cell_type": "code",
   "execution_count": 1,
   "metadata": {
    "collapsed": true
   },
   "outputs": [],
   "source": [
    "import random\n",
    "\n",
    "def update(self, t):\n",
    "    # Gather inputs\n",
    "    self.next_waypoint = self.planner.next_waypoint()  # from route planner, also displayed by simulator\n",
    "    inputs = self.env.sense(self)\n",
    "    deadline = self.env.get_deadline(self)\n",
    "    \n",
    "    # Do something random\n",
    "    action = random.choice(['right', 'left', 'forward', None])"
   ]
  },
  {
   "cell_type": "markdown",
   "metadata": {},
   "source": [
    "We'll see below how this strategy fares in avoiding illegal moves and getting the agent to its destination. Spoiler: not very well. "
   ]
  },
  {
   "cell_type": "markdown",
   "metadata": {},
   "source": [
    "## Task 2: Identify and Update State\n",
    "\n",
    "The following information is available for the agent at each update:\n",
    "\n",
    "- *Light*: whether the light is red or green. As mentioned above, a green light means the agent can perform the next action, with the possible exception of a left turn, while a red light means the agent should stay put, with the possible exception of a right turn. So, it is important to add the light to the state.\n",
    "- *Oncoming*: whether there is oncoming traffic, and which direction it is going. As mentioned above, oncoming traffic may mean the agent cannot turn left or right, so this information needs to be in the state as well.\n",
    "- *Right*: whether there is traffic from the right of the agent, and which direction it is going. Right-of-way rules don't mention traffic to the right at any point, so this is unnecessary information that doesn't need to be in the state for the agent to learn the optimal policy.\n",
    "- *Left*: whether there is traffic from the left of the agent, and which direction it is going. Traffic from the left going forward means the agent cannot turn right on a red light, so this needs to be in the state.\n",
    "- *Next waypoint*: the direction the agent should go to reach the destination. Without this information, the agent does not know where to go next and might as well wonder around randomly, so this needs to go in the state.\n",
    "- *Deadline*: how much time the agent has left to reach its destination. At first, I would say this is not meaningful information for the agent, since it doesn't change right-of-way rules nor the best route. I thought about adding it to the state anyway, but this would mean a large increase in the number of possible states. Using only `light` (red or green), `oncoming` (None, left, right, or forward), `left` (None, left, right, or forward) and `next_waypoint` (left, right, or forward), we have $2\\times4\\times4\\times3=96$ possible states. Adding `deadline` would mean multiplying this number by 50, if not more. So I'll keep `deadline` off my state for now.\n",
    "\n",
    "There is the possibility of combining inputs to create a state. Maybe I could define the state in such a way that the allowed actions would be immediately available for the agent; for instance, I could come up with a `turn_right` variable that would check if the agent can turn right, and add that variable to the state. At least for now, though, I'd rather see how the agent deals with the \"raw\" variables; I can tweak the state later to try and get the agent to find the optimal policy.\n",
    "\n",
    "Adding this state implementation to the basic agent presented above leads to the following:"
   ]
  },
  {
   "cell_type": "code",
   "execution_count": 2,
   "metadata": {
    "collapsed": true
   },
   "outputs": [],
   "source": [
    "def update(self, t):\n",
    "    # Gather inputs\n",
    "    self.next_waypoint = self.planner.next_waypoint()  # from route planner, also displayed by simulator\n",
    "    inputs = self.env.sense(self)\n",
    "    deadline = self.env.get_deadline(self)\n",
    "    \n",
    "    # update state\n",
    "    self.state = (inputs['light'], inputs['oncoming'], inputs['left'],\n",
    "                  self.next_waypoint)\n",
    "    \n",
    "    # Do something random\n",
    "    action = random.choice(['right', 'left', 'forward', None])"
   ]
  },
  {
   "cell_type": "markdown",
   "metadata": {},
   "source": [
    "## Variables of Interest\n",
    "\n",
    "Let's go a little deeper on what constitute a good agent in this setting. Some ideas come to mind:\n",
    "\n",
    "- A good agent would reach its destination as fast as possible, and learn to do so well over time\n",
    "- A good agent would make no mistakes\n",
    "- A good agent would have a vast knowledge of the state space\n",
    "\n",
    "So I'll keep track of the following variables:\n",
    "\n",
    "- `n_dest_reached`: the number of times the agent has reached its destination\n",
    "- `last_dest_fail`: the most recent trial in which the agent did not reach its destination\n",
    "- `sum_time_left`: the sum over all trials of the steps the agent still had available when it reached its destination (0 if it never reached it)\n",
    "- `n_penalties`: the number of penalties incurred by the agent\n",
    "- `last_penalty`: the most recent trial in which the agent received a penalty\n",
    "- `len_qvals`: how many Q-values are mapped in the agent's Q-function - that is, how many `(state, action)` pairs it visited during the simulation\n",
    "\n",
    "(I had previously kept track of the rewards accumulated by the agent, but decided to drop this information, because of two reasons. First, the rewards are a way for the agent to do what's described above, not an end in and of themselves. Second, since the penalty for an incorrect move is smaller than a reward for a correct one, an agent that alternates correct and incorrect moves could end up with more rewards than an agent that only performs correct moves!)\n",
    "\n",
    "Putting together the update function, the state to implement and the variables of interest leads to this implementation of a basic agent:"
   ]
  },
  {
   "cell_type": "code",
   "execution_count": 3,
   "metadata": {
    "collapsed": false
   },
   "outputs": [],
   "source": [
    "class BasicAgent():\n",
    "    \"\"\"An agent that learns to drive in the smartcab world.\"\"\"\n",
    "\n",
    "    def __init__(self, env):\n",
    "        super(BasicAgent, self).__init__(env)  # sets self.env = env, state = None, next_waypoint = None, and a default color\n",
    "        self.color = 'red'  # override color\n",
    "        self.planner = RoutePlanner(self.env, self)  # simple route planner to get next_waypoint\n",
    "        self.qvals = {} # mapping (state, action) to q-values\n",
    "        self.time = 0 # number of moves performed\n",
    "        self.possible_actions = (None, 'forward', 'left', 'right')\n",
    "        self.n_dest_reached = 0 # number of destinations reached\n",
    "        self.last_dest_fail = 0 # last time agent failed to reach destination\n",
    "        self.sum_time_left = 0 # sum of time left upon reaching destination over all trials\n",
    "        self.n_penalties = 0 # number of penalties incurred\n",
    "        self.last_penalty = 0 # last trial in which the agent incurred in a penalty\n",
    "\n",
    "    def reset(self, destination=None):\n",
    "        self.planner.route_to(destination)\n",
    "\n",
    "    def best_action(self, state):\n",
    "        \"\"\"\n",
    "        Return a random action (other agents will have different policies)\n",
    "        \"\"\"\n",
    "        return random.choice(self.possible_actions)\n",
    "\n",
    "    def update_qvals(self, state, action, reward):\n",
    "        \"\"\"\n",
    "        Does nothing (in other agents will use reward to update \n",
    "        the mapping from (state, action) pairs to q-values)\n",
    "        \"\"\"\n",
    "        self.qvals[(state, action)] = 0\n",
    "    \n",
    "    def update(self, t):\n",
    "        # Gather inputs\n",
    "        self.next_waypoint = self.planner.next_waypoint()  # from route planner, also displayed by simulator\n",
    "        inputs = self.env.sense(self)\n",
    "        deadline = self.env.get_deadline(self)\n",
    "        \n",
    "        # update time\n",
    "        self.time += 1\n",
    "\n",
    "        # Update state\n",
    "        self.state = (inputs['light'], inputs['oncoming'], inputs['left'],\n",
    "                      self.next_waypoint)\n",
    "\n",
    "        # Pick an action\n",
    "        action = self.best_action(self.state)\n",
    "        \n",
    "        # Execute action and get reward\n",
    "        reward = self.env.act(self, action)\n",
    "        if reward < 0:\n",
    "            self.n_penalties += 1\n",
    "        \n",
    "        # Update the q-value of the (state, action) pair\n",
    "        self.update_qvals(self.state, action, reward)"
   ]
  },
  {
   "cell_type": "markdown",
   "metadata": {},
   "source": [
    "A file with this version of the agent can be found [here](https://github.com/lmurtinho/machine-learning/blob/my_projects/projects/smartcab/smartcab/basic_agent.py). (In the actual code, the implementation is `class BasicAgent(Agent)`.)\n",
    "\n",
    "All other agents presented in this report will build upon this `BasicAgent` class, changing only the `best_action` and `update_qvals` methods. I altered some code in `simulator.py` to update some `BasicAgents` values, such as `n_dest_reached`."
   ]
  },
  {
   "cell_type": "markdown",
   "metadata": {},
   "source": [
    "### Basic Agent Results\n",
    "\n",
    "Here are the results of running 100 simulations, of 100 trials each, with the basic agent presented above:"
   ]
  },
  {
   "cell_type": "code",
   "execution_count": 4,
   "metadata": {
    "collapsed": false
   },
   "outputs": [
    {
     "data": {
      "text/html": [
       "<div>\n",
       "<table border=\"1\" class=\"dataframe\">\n",
       "  <thead>\n",
       "    <tr style=\"text-align: right;\">\n",
       "      <th></th>\n",
       "      <th>n_dest_reached</th>\n",
       "      <th>last_dest_fail</th>\n",
       "      <th>sum_time_left</th>\n",
       "      <th>n_penalties</th>\n",
       "      <th>last_penalty</th>\n",
       "      <th>len_qvals</th>\n",
       "    </tr>\n",
       "  </thead>\n",
       "  <tbody>\n",
       "    <tr>\n",
       "      <th>count</th>\n",
       "      <td>100.000000</td>\n",
       "      <td>100.000000</td>\n",
       "      <td>100.000000</td>\n",
       "      <td>100.000000</td>\n",
       "      <td>100.0</td>\n",
       "      <td>100.000000</td>\n",
       "    </tr>\n",
       "    <tr>\n",
       "      <th>mean</th>\n",
       "      <td>20.270000</td>\n",
       "      <td>99.780000</td>\n",
       "      <td>299.890000</td>\n",
       "      <td>1582.830000</td>\n",
       "      <td>100.0</td>\n",
       "      <td>86.080000</td>\n",
       "    </tr>\n",
       "    <tr>\n",
       "      <th>std</th>\n",
       "      <td>4.256558</td>\n",
       "      <td>0.483673</td>\n",
       "      <td>80.866506</td>\n",
       "      <td>65.807502</td>\n",
       "      <td>0.0</td>\n",
       "      <td>6.317652</td>\n",
       "    </tr>\n",
       "    <tr>\n",
       "      <th>min</th>\n",
       "      <td>12.000000</td>\n",
       "      <td>98.000000</td>\n",
       "      <td>141.000000</td>\n",
       "      <td>1391.000000</td>\n",
       "      <td>100.0</td>\n",
       "      <td>74.000000</td>\n",
       "    </tr>\n",
       "    <tr>\n",
       "      <th>25%</th>\n",
       "      <td>17.000000</td>\n",
       "      <td>100.000000</td>\n",
       "      <td>237.000000</td>\n",
       "      <td>1540.000000</td>\n",
       "      <td>100.0</td>\n",
       "      <td>81.750000</td>\n",
       "    </tr>\n",
       "    <tr>\n",
       "      <th>50%</th>\n",
       "      <td>20.000000</td>\n",
       "      <td>100.000000</td>\n",
       "      <td>297.500000</td>\n",
       "      <td>1585.500000</td>\n",
       "      <td>100.0</td>\n",
       "      <td>86.000000</td>\n",
       "    </tr>\n",
       "    <tr>\n",
       "      <th>75%</th>\n",
       "      <td>23.000000</td>\n",
       "      <td>100.000000</td>\n",
       "      <td>360.000000</td>\n",
       "      <td>1630.500000</td>\n",
       "      <td>100.0</td>\n",
       "      <td>91.000000</td>\n",
       "    </tr>\n",
       "    <tr>\n",
       "      <th>max</th>\n",
       "      <td>31.000000</td>\n",
       "      <td>100.000000</td>\n",
       "      <td>503.000000</td>\n",
       "      <td>1728.000000</td>\n",
       "      <td>100.0</td>\n",
       "      <td>105.000000</td>\n",
       "    </tr>\n",
       "  </tbody>\n",
       "</table>\n",
       "</div>"
      ],
      "text/plain": [
       "       n_dest_reached  last_dest_fail  sum_time_left  n_penalties  \\\n",
       "count      100.000000      100.000000     100.000000   100.000000   \n",
       "mean        20.270000       99.780000     299.890000  1582.830000   \n",
       "std          4.256558        0.483673      80.866506    65.807502   \n",
       "min         12.000000       98.000000     141.000000  1391.000000   \n",
       "25%         17.000000      100.000000     237.000000  1540.000000   \n",
       "50%         20.000000      100.000000     297.500000  1585.500000   \n",
       "75%         23.000000      100.000000     360.000000  1630.500000   \n",
       "max         31.000000      100.000000     503.000000  1728.000000   \n",
       "\n",
       "       last_penalty   len_qvals  \n",
       "count         100.0  100.000000  \n",
       "mean          100.0   86.080000  \n",
       "std             0.0    6.317652  \n",
       "min           100.0   74.000000  \n",
       "25%           100.0   81.750000  \n",
       "50%           100.0   86.000000  \n",
       "75%           100.0   91.000000  \n",
       "max           100.0  105.000000  "
      ]
     },
     "execution_count": 4,
     "metadata": {},
     "output_type": "execute_result"
    }
   ],
   "source": [
    "from smartcab.run import run_sims\n",
    "from smartcab.basic_agent import BasicAgent\n",
    "\n",
    "df_basic = run_sims(100, 100, BasicAgent)\n",
    "df_basic.describe()"
   ]
  },
  {
   "cell_type": "markdown",
   "metadata": {},
   "source": [
    "A csv file with the results of one simulation as the above can be found [here](https://github.com/lmurtinho/machine-learning/blob/my_projects/projects/smartcab/basic_agent_results.csv)."
   ]
  },
  {
   "cell_type": "markdown",
   "metadata": {},
   "source": [
    "As expected, and agent that takes actions at random is a lousy one. I'm actually surprised it gets to its destination some 20 times on average. The number of penalties is quite large - around 16 per trial on average.\n",
    "\n",
    "Another think to keep in mind: on average, a completely random agent will explore some 86 `(state, action)` pairs in 100 trials. We have $96\\times4=384$ such pairs (the 4 possible actions are `'forward'`, `'left'`, `'right'`, and `None`). So randomly picking actions in a state means exploring, on average, about 22% of `(state, action)` pairs. This number seems low, but maybe a lot of states are quite rare and won't come up even after 100 trials."
   ]
  },
  {
   "cell_type": "markdown",
   "metadata": {},
   "source": [
    "### Perfect Agent Results\n",
    "\n",
    "We can contrast the results of the basic agent with those of an agent that always picks the correct action, given by the `best_action` method defined below:"
   ]
  },
  {
   "cell_type": "code",
   "execution_count": 5,
   "metadata": {
    "collapsed": true
   },
   "outputs": [],
   "source": [
    "def best_action(self, state):\n",
    "    \"\"\"\n",
    "    Returns the best possible action.\n",
    "    \"\"\"        \n",
    "    # retrieve state information\n",
    "    light, oncoming, left, waypoint = state\n",
    "\n",
    "    # retrieve best action        \n",
    "    action = waypoint\n",
    "\n",
    "    # On a red light, the agent can only turn right, and even so only if:\n",
    "    # - no oncoming traffic is going left\n",
    "    # - no traffic from the left is going forward\n",
    "    if light == 'red':\n",
    "        if any([action != 'right', oncoming == 'left', \n",
    "                left == 'forward']):\n",
    "            action = None\n",
    "\n",
    "    # On a green light, the agent cannot turn left if there is\n",
    "    # oncoming traffic going forward or right\n",
    "    elif action == 'left' and (oncoming == 'forward' or oncoming == 'right'):\n",
    "        action = None\n",
    "\n",
    "    return action"
   ]
  },
  {
   "cell_type": "markdown",
   "metadata": {},
   "source": [
    "The perfect agent implementation is [here](https://github.com/lmurtinho/machine-learning/blob/my_projects/projects/smartcab/smartcab/perfect_agent.py). \n",
    "\n",
    "These are the results of the perfect agent:"
   ]
  },
  {
   "cell_type": "code",
   "execution_count": 6,
   "metadata": {
    "collapsed": false
   },
   "outputs": [
    {
     "data": {
      "text/html": [
       "<div>\n",
       "<table border=\"1\" class=\"dataframe\">\n",
       "  <thead>\n",
       "    <tr style=\"text-align: right;\">\n",
       "      <th></th>\n",
       "      <th>n_dest_reached</th>\n",
       "      <th>last_dest_fail</th>\n",
       "      <th>sum_time_left</th>\n",
       "      <th>n_penalties</th>\n",
       "      <th>last_penalty</th>\n",
       "      <th>len_qvals</th>\n",
       "    </tr>\n",
       "  </thead>\n",
       "  <tbody>\n",
       "    <tr>\n",
       "      <th>count</th>\n",
       "      <td>100.00000</td>\n",
       "      <td>100.000000</td>\n",
       "      <td>100.000000</td>\n",
       "      <td>100.0</td>\n",
       "      <td>100.0</td>\n",
       "      <td>100.000000</td>\n",
       "    </tr>\n",
       "    <tr>\n",
       "      <th>mean</th>\n",
       "      <td>99.92000</td>\n",
       "      <td>3.560000</td>\n",
       "      <td>1807.070000</td>\n",
       "      <td>0.0</td>\n",
       "      <td>0.0</td>\n",
       "      <td>23.530000</td>\n",
       "    </tr>\n",
       "    <tr>\n",
       "      <th>std</th>\n",
       "      <td>0.27266</td>\n",
       "      <td>14.926297</td>\n",
       "      <td>80.840941</td>\n",
       "      <td>0.0</td>\n",
       "      <td>0.0</td>\n",
       "      <td>2.649395</td>\n",
       "    </tr>\n",
       "    <tr>\n",
       "      <th>min</th>\n",
       "      <td>99.00000</td>\n",
       "      <td>0.000000</td>\n",
       "      <td>1571.000000</td>\n",
       "      <td>0.0</td>\n",
       "      <td>0.0</td>\n",
       "      <td>17.000000</td>\n",
       "    </tr>\n",
       "    <tr>\n",
       "      <th>25%</th>\n",
       "      <td>100.00000</td>\n",
       "      <td>0.000000</td>\n",
       "      <td>1756.000000</td>\n",
       "      <td>0.0</td>\n",
       "      <td>0.0</td>\n",
       "      <td>21.750000</td>\n",
       "    </tr>\n",
       "    <tr>\n",
       "      <th>50%</th>\n",
       "      <td>100.00000</td>\n",
       "      <td>0.000000</td>\n",
       "      <td>1816.500000</td>\n",
       "      <td>0.0</td>\n",
       "      <td>0.0</td>\n",
       "      <td>24.000000</td>\n",
       "    </tr>\n",
       "    <tr>\n",
       "      <th>75%</th>\n",
       "      <td>100.00000</td>\n",
       "      <td>0.000000</td>\n",
       "      <td>1873.250000</td>\n",
       "      <td>0.0</td>\n",
       "      <td>0.0</td>\n",
       "      <td>25.000000</td>\n",
       "    </tr>\n",
       "    <tr>\n",
       "      <th>max</th>\n",
       "      <td>100.00000</td>\n",
       "      <td>94.000000</td>\n",
       "      <td>1966.000000</td>\n",
       "      <td>0.0</td>\n",
       "      <td>0.0</td>\n",
       "      <td>29.000000</td>\n",
       "    </tr>\n",
       "  </tbody>\n",
       "</table>\n",
       "</div>"
      ],
      "text/plain": [
       "       n_dest_reached  last_dest_fail  sum_time_left  n_penalties  \\\n",
       "count       100.00000      100.000000     100.000000        100.0   \n",
       "mean         99.92000        3.560000    1807.070000          0.0   \n",
       "std           0.27266       14.926297      80.840941          0.0   \n",
       "min          99.00000        0.000000    1571.000000          0.0   \n",
       "25%         100.00000        0.000000    1756.000000          0.0   \n",
       "50%         100.00000        0.000000    1816.500000          0.0   \n",
       "75%         100.00000        0.000000    1873.250000          0.0   \n",
       "max         100.00000       94.000000    1966.000000          0.0   \n",
       "\n",
       "       last_penalty   len_qvals  \n",
       "count         100.0  100.000000  \n",
       "mean            0.0   23.530000  \n",
       "std             0.0    2.649395  \n",
       "min             0.0   17.000000  \n",
       "25%             0.0   21.750000  \n",
       "50%             0.0   24.000000  \n",
       "75%             0.0   25.000000  \n",
       "max             0.0   29.000000  "
      ]
     },
     "execution_count": 6,
     "metadata": {},
     "output_type": "execute_result"
    }
   ],
   "source": [
    "from smartcab.perfect_agent import PerfectAgent\n",
    "\n",
    "df_perfect = run_sims(100, 100, PerfectAgent)\n",
    "df_perfect.describe()"
   ]
  },
  {
   "cell_type": "markdown",
   "metadata": {},
   "source": [
    "A csv file with the results of one simulation as the above can be found [here](https://github.com/lmurtinho/machine-learning/blob/my_projects/projects/smartcab/perfect_agent_results.csv).\n",
    "\n",
    "Surprisingly, there are occasions in which this perfect agent does not reach its destination. This may be due to issues with the planner or with bad luck (getting a lot of red lights, for instance). On the other hand, the agent incurs in no penalties whatsoever, which is to be expected.\n",
    "\n",
    "Also note how few `(state, action)` pairs are explored - in fact, something like 1/4 of the explored pairs from the basic agent, which makes sense: for the perfect agent, a state will always be paired with the same (perfect) action, so there are only 96 possibilities for it to explore."
   ]
  },
  {
   "cell_type": "markdown",
   "metadata": {},
   "source": [
    "## Task 3: Implement Q-Learning\n",
    "In this step I return to the basic agent and modify it to learn from its actions."
   ]
  },
  {
   "cell_type": "markdown",
   "metadata": {},
   "source": [
    "### Deciding on the Appropriate Q-learning Function \n",
    "\n",
    "The general form of the $Q$-function is: \n",
    "\n",
    "$Q(s, a) = R(s) + \\gamma\\underset{s'}\\sum T(s,a,s')\\underset{a'}{\\operatorname{max}}Q(s', a')$\n",
    "\n",
    "That is, the $Q$-value for a given `(state, action)` pair is the the reward for that state, $R(s)$, plus the discounted expected value of $Q$ for the next state the agent lands in, considering the transition function $T(s,a,s') = \\Pr( s' \\mid s,a)$ (the probability of landing on state $s'$ coming from state $s$ and performing action $a$) and that, whatever $s'$ is, the agent will maximize $Q$ from there on.\n",
    "\n",
    "The $Q$-learning update function is given by:\n",
    "\n",
    "$\\hat{Q}_t(s, a) = (1 - \\alpha_t)\\hat{Q}_{t-1}(s, a) + \\alpha_t(r + \\gamma\\underset{a'}{\\operatorname{max}}\\hat{Q}_{t-1}(s', a'))$\n",
    "\n",
    "That is, our estimate of the $Q$-value for the `(state, action)` pair is updated with the learning rate ($\\alpha_t$, which varies over time) by the observed reward ($r$) and our previous estimate of the Q-value for the observed next state ($s'$), discounted by the discount factor ($\\gamma$) and considering the agent will pick the action $a'$ that maximizes $Q$ from the next state on.\n",
    "\n",
    "However, in this case there's no need to worry about the future state, since the agent gets an immediate reward for doing the right thing. According to the project description:\n",
    "\n",
    ">The smartcab gets a reward for each successfully completed trip. A trip is considered “successfully completed” if the passenger is dropped off at the desired destination (some intersection) within a pre-specified time bound (computed with a route plan).\n",
    "\n",
    ">It also gets a smaller reward for each correct move executed at an intersection. It gets a small penalty for an incorrect move, and a larger penalty for violating traffic rules and/or causing an accident.\n",
    "\n",
    "So, even though the larger reward is only reaped once the agent reaches its destination, there are smaller rewards for following the correct path, and penalties for not doing so. This should be enough for the agent to learn the best policy.\n",
    "\n",
    "Granted, ignoring the agent's future decisions means I'm not using some information that could be of help. But the upside is a simplification of the problem: it's as if the agent is playing a 1-round game over and over, with immediate rewards for immediate actions. I expect this simplification more than compensates ignoring long-term rewards in this particular setting."
   ]
  },
  {
   "cell_type": "markdown",
   "metadata": {
    "collapsed": true
   },
   "source": [
    "### Q-learning implementation\n",
    "\n",
    "This means I won't actually bother with keeping track of the state the agent ends up in after performing an action (or, to be more technical, I'm setting the discount factor $\\gamma$ to zero). My update function will then simply be $\\hat{Q}_t(s, a) = (1 - \\alpha_t)\\hat{Q}_{t-1}(s, a) + \\alpha_tr$.\n",
    "\n",
    "Here are the `best_action` and `update_qvals` methods that define such an agent:"
   ]
  },
  {
   "cell_type": "code",
   "execution_count": 7,
   "metadata": {
    "collapsed": true
   },
   "outputs": [],
   "source": [
    "def best_action(self, state):\n",
    "    \"\"\"\n",
    "    Returns the best action (the one with the maximum Q-value)\n",
    "    or one of the best actions, given a state.\n",
    "    \"\"\"        \n",
    "    # get all possible q-values for the state\n",
    "    all_qvals = {action: self.qvals.get((state, action), 0)\n",
    "                 for action in self.possible_actions}        \n",
    "\n",
    "    # pick the actions that yield the largest q-value for the state\n",
    "    best_actions = [action for action in self.possible_actions \n",
    "                    if all_qvals[action] == max(all_qvals.values())]\n",
    "\n",
    "    # return one of the best actions at random\n",
    "    return random.choice(best_actions)        \n",
    "\n",
    "def update_qvals(self, state, action, reward):\n",
    "    \"\"\"\n",
    "    Updates the q-value associated with the (state, action) pair\n",
    "    \"\"\"\n",
    "    # define the learning rate for the current time\n",
    "    learn_rate = 1.0 / self.time\n",
    "\n",
    "    self.qvals[(self.state, action)] = \\\n",
    "        (1 - learn_rate) * self.qvals.get((self.state, action), 0) + \\\n",
    "        learn_rate * reward"
   ]
  },
  {
   "cell_type": "markdown",
   "metadata": {},
   "source": [
    "This implementation can be found [here](https://github.com/lmurtinho/machine-learning/blob/my_projects/projects/smartcab/smartcab/learning_agent.py)."
   ]
  },
  {
   "cell_type": "markdown",
   "metadata": {},
   "source": [
    "### Learning Agent Results\n",
    "\n",
    "Here are the results for this learning agent:"
   ]
  },
  {
   "cell_type": "code",
   "execution_count": 8,
   "metadata": {
    "collapsed": false
   },
   "outputs": [
    {
     "data": {
      "text/html": [
       "<div>\n",
       "<table border=\"1\" class=\"dataframe\">\n",
       "  <thead>\n",
       "    <tr style=\"text-align: right;\">\n",
       "      <th></th>\n",
       "      <th>n_dest_reached</th>\n",
       "      <th>last_dest_fail</th>\n",
       "      <th>sum_time_left</th>\n",
       "      <th>n_penalties</th>\n",
       "      <th>last_penalty</th>\n",
       "      <th>len_qvals</th>\n",
       "    </tr>\n",
       "  </thead>\n",
       "  <tbody>\n",
       "    <tr>\n",
       "      <th>count</th>\n",
       "      <td>100.000000</td>\n",
       "      <td>100.000000</td>\n",
       "      <td>100.00000</td>\n",
       "      <td>100.000000</td>\n",
       "      <td>100.000000</td>\n",
       "      <td>100.000000</td>\n",
       "    </tr>\n",
       "    <tr>\n",
       "      <th>mean</th>\n",
       "      <td>99.190000</td>\n",
       "      <td>16.350000</td>\n",
       "      <td>1737.48000</td>\n",
       "      <td>32.340000</td>\n",
       "      <td>91.850000</td>\n",
       "      <td>51.530000</td>\n",
       "    </tr>\n",
       "    <tr>\n",
       "      <th>std</th>\n",
       "      <td>0.860995</td>\n",
       "      <td>27.193796</td>\n",
       "      <td>79.33314</td>\n",
       "      <td>12.516026</td>\n",
       "      <td>7.605653</td>\n",
       "      <td>6.999935</td>\n",
       "    </tr>\n",
       "    <tr>\n",
       "      <th>min</th>\n",
       "      <td>95.000000</td>\n",
       "      <td>0.000000</td>\n",
       "      <td>1441.00000</td>\n",
       "      <td>19.000000</td>\n",
       "      <td>68.000000</td>\n",
       "      <td>37.000000</td>\n",
       "    </tr>\n",
       "    <tr>\n",
       "      <th>25%</th>\n",
       "      <td>99.000000</td>\n",
       "      <td>0.000000</td>\n",
       "      <td>1680.75000</td>\n",
       "      <td>27.000000</td>\n",
       "      <td>89.000000</td>\n",
       "      <td>47.000000</td>\n",
       "    </tr>\n",
       "    <tr>\n",
       "      <th>50%</th>\n",
       "      <td>99.000000</td>\n",
       "      <td>1.000000</td>\n",
       "      <td>1737.50000</td>\n",
       "      <td>30.500000</td>\n",
       "      <td>94.000000</td>\n",
       "      <td>51.000000</td>\n",
       "    </tr>\n",
       "    <tr>\n",
       "      <th>75%</th>\n",
       "      <td>100.000000</td>\n",
       "      <td>19.250000</td>\n",
       "      <td>1799.75000</td>\n",
       "      <td>33.250000</td>\n",
       "      <td>98.000000</td>\n",
       "      <td>55.000000</td>\n",
       "    </tr>\n",
       "    <tr>\n",
       "      <th>max</th>\n",
       "      <td>100.000000</td>\n",
       "      <td>100.000000</td>\n",
       "      <td>1896.00000</td>\n",
       "      <td>126.000000</td>\n",
       "      <td>100.000000</td>\n",
       "      <td>71.000000</td>\n",
       "    </tr>\n",
       "  </tbody>\n",
       "</table>\n",
       "</div>"
      ],
      "text/plain": [
       "       n_dest_reached  last_dest_fail  sum_time_left  n_penalties  \\\n",
       "count      100.000000      100.000000      100.00000   100.000000   \n",
       "mean        99.190000       16.350000     1737.48000    32.340000   \n",
       "std          0.860995       27.193796       79.33314    12.516026   \n",
       "min         95.000000        0.000000     1441.00000    19.000000   \n",
       "25%         99.000000        0.000000     1680.75000    27.000000   \n",
       "50%         99.000000        1.000000     1737.50000    30.500000   \n",
       "75%        100.000000       19.250000     1799.75000    33.250000   \n",
       "max        100.000000      100.000000     1896.00000   126.000000   \n",
       "\n",
       "       last_penalty   len_qvals  \n",
       "count    100.000000  100.000000  \n",
       "mean      91.850000   51.530000  \n",
       "std        7.605653    6.999935  \n",
       "min       68.000000   37.000000  \n",
       "25%       89.000000   47.000000  \n",
       "50%       94.000000   51.000000  \n",
       "75%       98.000000   55.000000  \n",
       "max      100.000000   71.000000  "
      ]
     },
     "execution_count": 8,
     "metadata": {},
     "output_type": "execute_result"
    }
   ],
   "source": [
    "from smartcab.learning_agent import LearningAgent\n",
    "\n",
    "df_learning = run_sims(100, 100, LearningAgent)\n",
    "df_learning.describe()"
   ]
  },
  {
   "cell_type": "markdown",
   "metadata": {},
   "source": [
    "A csv file of one simulation as the above can be found [here](https://github.com/lmurtinho/machine-learning/blob/my_projects/projects/smartcab/learning_agent_results.csv).\n",
    "\n",
    "These are really good results! The average and median number of destinations reached are actually comparable to the perfect agent's (see above). Let's see how frequent it is to get a late failure at reaching a destination:"
   ]
  },
  {
   "cell_type": "code",
   "execution_count": 9,
   "metadata": {
    "collapsed": false
   },
   "outputs": [
    {
     "name": "stdout",
     "output_type": "stream",
     "text": [
      "Number of learning agent simulations with failure to reach destination after 90 trials: 2/100\n"
     ]
    }
   ],
   "source": [
    "print \"Number of learning agent simulations with failure to \\\n",
    "reach destination after 90 trials: {}/100\".format(sum(df_learning['last_dest_fail'] > 90))"
   ]
  },
  {
   "cell_type": "markdown",
   "metadata": {},
   "source": [
    "Let's compare this with the perfect agent result:"
   ]
  },
  {
   "cell_type": "code",
   "execution_count": 10,
   "metadata": {
    "collapsed": false
   },
   "outputs": [
    {
     "name": "stdout",
     "output_type": "stream",
     "text": [
      "Number of perfect agent simulations with failure to reach destination after 90 trials: 1/100\n"
     ]
    }
   ],
   "source": [
    "print \"Number of perfect agent simulations with failure to \\\n",
    "reach destination after 90 trials: {}/100\".format(sum(df_perfect['last_dest_fail'] > 90))"
   ]
  },
  {
   "cell_type": "markdown",
   "metadata": {},
   "source": [
    "Quite close. Also note that when it comes to exploring the state space this is an agent that stays between the perfect agent (that has little time for exploration) and the basic agent (that does nothing but explore at random), with an average of 52 `(state, action)` pairs explored.\n",
    "\n",
    "If there's room for improvement in this agent, it's in the `last_penalty` variable: in over 75% of the simulations, the agent incurred in at least one penalty in the last 12 trials. On the bright side, 75% of simulations had 34 penalties or fewer - thats 0.34 penalties per trial, or 1 penalty for every 3 trials, which seems quite good specially considering there must be more penalties during the early trials, when the agent knows next to nothing about the world."
   ]
  },
  {
   "cell_type": "markdown",
   "metadata": {},
   "source": [
    "## Task 4: Enhance the Driving Agent\n",
    "\n",
    "The last task of the project, according to the project description, is:\n",
    "\n",
    "> Apply the reinforcement learning techniques you have learnt, and tweak the parameters (e.g. learning rate, discount factor, action selection method, etc.), to improve the performance of your agent. Your goal is to get it to a point so that within 100 trials, the agent is able to learn a feasible policy - i.e. reach the destination within the allotted time, with net reward remaining positive.\n",
    "\n",
    "As seen above, this goal has already been reached! But, as also previously discussed, there is still room for improvement, particulary regarding late penalties to the agent.\n",
    "\n",
    "According to [one of the videos](https://www.udacity.com/course/viewer#!/c-ud728-nd/l-5446820041/m-634899064) in the Reinforcement Learning course, there are three characteristics that can modify a Q-learning algorithm:\n",
    "\n",
    "- How Q-values are initialized\n",
    "- How the learning rate decays\n",
    "- How the action is picked\n",
    "\n",
    "I'll tackle these one at a time and discuss the results below."
   ]
  },
  {
   "cell_type": "markdown",
   "metadata": {},
   "source": [
    "### Changing Initial Q-Values\n",
    "\n",
    "One Q-learning implementation briefly discussed in the Reinforcement Learning lessons for this project is \"optimism in the face of uncertainty\". The idea is that high initial Q-values (implying an \"optimistic\" agent in the sense that it initially believes all possible actions will yield excellent rewards) lead to an explorative agent, because it will delay exploiting familiar paths, since those will end up with lower Q-values than its initial estimate.\n",
    "\n",
    "All it takes for the learning agent above to become optimistic is changing the value it gets when the `(state, action)` pair is not yet a key in `qvals` (that is, when the pair is seen for the first time):"
   ]
  },
  {
   "cell_type": "code",
   "execution_count": 11,
   "metadata": {
    "collapsed": true
   },
   "outputs": [],
   "source": [
    "def best_action(self, state):\n",
    "    \"\"\"\n",
    "    Returns the best action (the one with the maximum Q-value)\n",
    "    or one of the best actions, given a state, being\n",
    "    optimistic in the face of uncertainty.\n",
    "    \"\"\"        \n",
    "    # get all possible q-values for the state\n",
    "    # (be optimistic in the face of uncertainty)\n",
    "    all_qvals = {action: self.qvals.get((state, action), 100)\n",
    "                 for action in self.possible_actions}        \n",
    "\n",
    "    # pick the actions that yield the largest q-value for the state\n",
    "    best_actions = [action for action in self.possible_actions \n",
    "                    if all_qvals[action] == max(all_qvals.values())]\n",
    "\n",
    "    # return one of the best actions at random\n",
    "    return random.choice(best_actions)"
   ]
  },
  {
   "cell_type": "markdown",
   "metadata": {},
   "source": [
    "Instead of getting a 0 for previously unknown `(state, action)` pairs, the agent now gets a breathtaking 100, which is way more than even getting to the destination. So, it has more of an incentive to investigate new paths. (The implementation is [here](https://github.com/lmurtinho/machine-learning/blob/my_projects/projects/smartcab/smartcab/optimistic_agent.py).)\n",
    "\n",
    "I thought about also modifying the `update_qvals` method to incorporate the initial optimistic Q-value to the updates, but that's unnecessary, since the point of optimistic initialization is to get the agent to test a given action in a given state. Once it has tested it, there's no need to use that initial optimistic value for anything. (It might be a different story if I were taking future states and actions into account, since then dropping the value of a `(state, action)` pair might mean very shallow observations of many possibilities.)"
   ]
  },
  {
   "cell_type": "markdown",
   "metadata": {},
   "source": [
    "These are the results for running 100 simulations of 100 trials each with this optimistic agent:"
   ]
  },
  {
   "cell_type": "code",
   "execution_count": 12,
   "metadata": {
    "collapsed": false
   },
   "outputs": [
    {
     "data": {
      "text/html": [
       "<div>\n",
       "<table border=\"1\" class=\"dataframe\">\n",
       "  <thead>\n",
       "    <tr style=\"text-align: right;\">\n",
       "      <th></th>\n",
       "      <th>n_dest_reached</th>\n",
       "      <th>last_dest_fail</th>\n",
       "      <th>sum_time_left</th>\n",
       "      <th>n_penalties</th>\n",
       "      <th>last_penalty</th>\n",
       "      <th>len_qvals</th>\n",
       "    </tr>\n",
       "  </thead>\n",
       "  <tbody>\n",
       "    <tr>\n",
       "      <th>count</th>\n",
       "      <td>100.00000</td>\n",
       "      <td>100.000000</td>\n",
       "      <td>100.000000</td>\n",
       "      <td>100.000000</td>\n",
       "      <td>100.000000</td>\n",
       "      <td>100.000000</td>\n",
       "    </tr>\n",
       "    <tr>\n",
       "      <th>mean</th>\n",
       "      <td>98.72000</td>\n",
       "      <td>20.820000</td>\n",
       "      <td>1747.780000</td>\n",
       "      <td>40.090000</td>\n",
       "      <td>94.030000</td>\n",
       "      <td>64.550000</td>\n",
       "    </tr>\n",
       "    <tr>\n",
       "      <th>std</th>\n",
       "      <td>1.03553</td>\n",
       "      <td>30.185079</td>\n",
       "      <td>82.157348</td>\n",
       "      <td>10.829342</td>\n",
       "      <td>5.403805</td>\n",
       "      <td>5.944822</td>\n",
       "    </tr>\n",
       "    <tr>\n",
       "      <th>min</th>\n",
       "      <td>96.00000</td>\n",
       "      <td>0.000000</td>\n",
       "      <td>1537.000000</td>\n",
       "      <td>28.000000</td>\n",
       "      <td>74.000000</td>\n",
       "      <td>53.000000</td>\n",
       "    </tr>\n",
       "    <tr>\n",
       "      <th>25%</th>\n",
       "      <td>98.00000</td>\n",
       "      <td>1.000000</td>\n",
       "      <td>1697.500000</td>\n",
       "      <td>36.000000</td>\n",
       "      <td>92.000000</td>\n",
       "      <td>60.000000</td>\n",
       "    </tr>\n",
       "    <tr>\n",
       "      <th>50%</th>\n",
       "      <td>99.00000</td>\n",
       "      <td>1.000000</td>\n",
       "      <td>1753.000000</td>\n",
       "      <td>38.500000</td>\n",
       "      <td>95.000000</td>\n",
       "      <td>64.000000</td>\n",
       "    </tr>\n",
       "    <tr>\n",
       "      <th>75%</th>\n",
       "      <td>99.00000</td>\n",
       "      <td>29.000000</td>\n",
       "      <td>1803.500000</td>\n",
       "      <td>42.000000</td>\n",
       "      <td>98.000000</td>\n",
       "      <td>68.250000</td>\n",
       "    </tr>\n",
       "    <tr>\n",
       "      <th>max</th>\n",
       "      <td>100.00000</td>\n",
       "      <td>96.000000</td>\n",
       "      <td>1978.000000</td>\n",
       "      <td>131.000000</td>\n",
       "      <td>100.000000</td>\n",
       "      <td>80.000000</td>\n",
       "    </tr>\n",
       "  </tbody>\n",
       "</table>\n",
       "</div>"
      ],
      "text/plain": [
       "       n_dest_reached  last_dest_fail  sum_time_left  n_penalties  \\\n",
       "count       100.00000      100.000000     100.000000   100.000000   \n",
       "mean         98.72000       20.820000    1747.780000    40.090000   \n",
       "std           1.03553       30.185079      82.157348    10.829342   \n",
       "min          96.00000        0.000000    1537.000000    28.000000   \n",
       "25%          98.00000        1.000000    1697.500000    36.000000   \n",
       "50%          99.00000        1.000000    1753.000000    38.500000   \n",
       "75%          99.00000       29.000000    1803.500000    42.000000   \n",
       "max         100.00000       96.000000    1978.000000   131.000000   \n",
       "\n",
       "       last_penalty   len_qvals  \n",
       "count    100.000000  100.000000  \n",
       "mean      94.030000   64.550000  \n",
       "std        5.403805    5.944822  \n",
       "min       74.000000   53.000000  \n",
       "25%       92.000000   60.000000  \n",
       "50%       95.000000   64.000000  \n",
       "75%       98.000000   68.250000  \n",
       "max      100.000000   80.000000  "
      ]
     },
     "execution_count": 12,
     "metadata": {},
     "output_type": "execute_result"
    }
   ],
   "source": [
    "from smartcab.optimistic_agent import OptimisticAgent\n",
    "\n",
    "df_optimistic = run_sims(100, 100, OptimisticAgent)\n",
    "df_optimistic.describe()"
   ]
  },
  {
   "cell_type": "code",
   "execution_count": 13,
   "metadata": {
    "collapsed": false
   },
   "outputs": [
    {
     "name": "stdout",
     "output_type": "stream",
     "text": [
      "Number of optimistic agent simulations with failure to reach destination after 90 trials: 3/100\n"
     ]
    }
   ],
   "source": [
    "print \"Number of optimistic agent simulations with failure to \\\n",
    "reach destination after 90 trials: {}/100\".format(sum(df_optimistic['last_dest_fail'] > 90))"
   ]
  },
  {
   "cell_type": "markdown",
   "metadata": {},
   "source": [
    "A csv file of one simulation as the above can be found [here](https://github.com/lmurtinho/machine-learning/blob/my_projects/projects/smartcab/optimistic_agent_results.csv).\n",
    "\n",
    "The results of the optimistic agent are somewhat comparable to those of the original learning agent. The main difference is that the number of penalties is somewhat larger, as well as the number of `(state, action)` pairs explored. One thing has to do with another, obviously: exploring more means more chance of getting negative results. When it comes to `last_penalty`, however, optimistic initialization alone does not bring better results than the previous implementation."
   ]
  },
  {
   "cell_type": "markdown",
   "metadata": {},
   "source": [
    "### Modifying the Learning Rate Decay\n",
    "\n",
    "My `learn_rate` variable is the inverse of my `time` variable - that is, when `time` is 1, `learn_rate` is 1/1; when `time` is 2, `learn_rate` is 1/2, and so on.\n",
    "\n",
    "This drop seems very steep, but it can be modified. I decided to use the following equation to do so:"
   ]
  },
  {
   "cell_type": "code",
   "execution_count": 14,
   "metadata": {
    "collapsed": false
   },
   "outputs": [],
   "source": [
    "def learn_rate(mult, time):\n",
    "    return 1.0 / (1 + mult * time)"
   ]
  },
  {
   "cell_type": "markdown",
   "metadata": {},
   "source": [
    "That means the learning rate will begin at 1 when `time` is zero, but its decrease will be a function of both `time` and the `mult` factor. If `mult = 1`, the learning rate is the inverse of `time` (assuming `time` starts at zero).\n",
    "\n",
    "Since I think the drop in the learning rate is steep enough when `mult = 1`, I won't bother with larger values of it, which would only magnify the drop. Instead, I'll work with 10 values of `mult`, from 1 to 0.001.\n",
    "\n",
    "My prior on this experiment is actually that the learning rate will not have a significant impact on the learner. Because of how the rewards are structured (immediate negative rewards for incorrect or illegal moves, immediate positive rewards for the correct legal move, zero for staying put), and since only one action is correct at any one point, the rewards very quickly should take the following pattern:\n",
    "\n",
    "- incorrect/illegal moves: minus something\n",
    "- staying put: zero\n",
    "- correct legal move: plus something\n",
    "\n",
    "What `something` is does not really matter: the correct legal move will always win out.\n",
    "\n",
    "The only way I can think for something to go wrong is if an agent performs an incorrect move that *immediately takes it to the destination*. In this scenario, the positive reward for reaching the destination would overwhelm the negative reward for making an incorrect move, and, if the learning rate drops too quickly, no future penalties would be able to revert this. But, considering the simulation does not allow illegal moves (the agent takes the penalty for trying something illegal, but stays put), how would a legal move that takes the agent to the destination be an incorrect one?\n",
    "\n",
    "Anyway, the point here is that I think tweaking with the learning rate will not be of much use given the rewards, the behavior of the agent and the states I came up with. Let's see if I'm right.\n",
    "\n",
    "This is the `update_qvals()` function for the learning agent with different learning rates (`best_action()` stays the same):"
   ]
  },
  {
   "cell_type": "code",
   "execution_count": 15,
   "metadata": {
    "collapsed": true
   },
   "outputs": [],
   "source": [
    "def update_qvals(self, state, action, reward):\n",
    "    \"\"\"\n",
    "    Updates the q-value associated with the (state, action) pair\n",
    "    \"\"\"\n",
    "    # define the learning rate for the current time\n",
    "    learn_rate = 1.0 / (1 + self.mult*self.time)\n",
    "\n",
    "    self.qvals[(self.state, action)] = \\\n",
    "        (1 - learn_rate) * self.qvals.get((self.state, action), 0) + \\\n",
    "        learn_rate * reward"
   ]
  },
  {
   "cell_type": "markdown",
   "metadata": {},
   "source": [
    "And this is the way I came up with to run the code using different values for `mult`:"
   ]
  },
  {
   "cell_type": "code",
   "execution_count": null,
   "metadata": {
    "collapsed": false
   },
   "outputs": [],
   "source": [
    "def several_rate_changes(mults):\n",
    "    \"\"\"\n",
    "    For each mult value in mults, runs a simulation\n",
    "    with a RateChangeAgent.\n",
    "    Returns a dict with dataframe results for the agent\n",
    "    for each mult value.\n",
    "    \"\"\"\n",
    "    results = {}\n",
    "    for mult in mults:\n",
    "        mult_results = []\n",
    "        for i in range(100):\n",
    "            sim_results = run_rate_change(mult)\n",
    "            mult_results.append(sim_results)\n",
    "        df_results = pd.DataFrame(mult_results)\n",
    "        df_results.columns = ['n_dest_reached', 'last_dest_fail', \n",
    "                              'sum_time_left', 'n_penalties',\n",
    "                              'last_penalty', 'len_qvals']\n",
    "        results[mult] = df_results\n",
    "    return results"
   ]
  },
  {
   "cell_type": "markdown",
   "metadata": {},
   "source": [
    "The code for studying changes in learning rates is [here](https://github.com/lmurtinho/machine-learning/blob/my_projects/projects/smartcab/smartcab/rate_change_agent.py).\n",
    "\n",
    "Let's see the results for these different learning agents with different learning rates - this time using plots to make it easier to compare values."
   ]
  },
  {
   "cell_type": "code",
   "execution_count": 16,
   "metadata": {
    "collapsed": false
   },
   "outputs": [],
   "source": [
    "from smartcab.rate_change_agent import several_rate_changes\n",
    "\n",
    "mults = [1, 0.5, 0.3, 0.1, 0.05, 0.03, 0.01, 0.005, 0.003, 0.001]\n",
    "\n",
    "learning_rate_results = several_rate_changes(mults)"
   ]
  },
  {
   "cell_type": "code",
   "execution_count": 17,
   "metadata": {
    "collapsed": false
   },
   "outputs": [],
   "source": [
    "import matplotlib.pyplot as plt\n",
    "import seaborn as sns\n",
    "\n",
    "%matplotlib inline\n",
    "\n",
    "#plt.rcParams['figure.figsize'] = [15, 10]\n",
    "plt.rcParams['axes.titlesize'] = 16\n",
    "plt.rcParams['ytick.labelsize'] = plt.rcParams['xtick.labelsize'] = 12"
   ]
  },
  {
   "cell_type": "code",
   "execution_count": 19,
   "metadata": {
    "collapsed": false
   },
   "outputs": [
    {
     "data": {
      "image/png": "[encoded data removed]",
      "text/plain": [
       "<matplotlib.figure.Figure at 0x9f13240>"
      ]
     },
     "metadata": {},
     "output_type": "display_data"
    },
    {
     "data": {
      "image/png": "[encoded data removed]",
      "text/plain": [
       "<matplotlib.figure.Figure at 0xb7c0a20>"
      ]
     },
     "metadata": {},
     "output_type": "display_data"
    },
    {
     "data": {
      "image/png": "[encoded data removed]",
      "text/plain": [
       "<matplotlib.figure.Figure at 0xbc107b8>"
      ]
     },
     "metadata": {},
     "output_type": "display_data"
    },
    {
     "data": {
      "image/png": "[encoded data removed]",
      "text/plain": [
       "<matplotlib.figure.Figure at 0xc0f2e80>"
      ]
     },
     "metadata": {},
     "output_type": "display_data"
    },
    {
     "data": {
      "image/png": "[encoded data removed]",
      "text/plain": [
       "<matplotlib.figure.Figure at 0xc0df0f0>"
      ]
     },
     "metadata": {},
     "output_type": "display_data"
    },
    {
     "data": {
      "image/png": "[encoded data removed]",
      "text/plain": [
       "<matplotlib.figure.Figure at 0xd005a90>"
      ]
     },
     "metadata": {},
     "output_type": "display_data"
    }
   ],
   "source": [
    "import pandas as pd\n",
    "\n",
    "rate_panel = pd.Panel.from_dict(learning_rate_results)\n",
    "for column in df_learning.columns:\n",
    "    sns.boxplot(data=rate_panel.minor_xs(column))\n",
    "    plt.title(column)\n",
    "    plt.show()\n",
    "    plt.close()"
   ]
  },
  {
   "cell_type": "markdown",
   "metadata": {},
   "source": [
    "My prior has become stronger: for this agent, tweaking the learning rate doesn't do much. `last_penalty`, in particular, remains (on average) as high as it was before."
   ]
  },
  {
   "cell_type": "markdown",
   "metadata": {},
   "source": [
    "## Randomly Picking Actions\n",
    "\n",
    "Another possibility to tweak the learning agent is making it pick actions at random from time to time. The following `best_action()` function does just that:"
   ]
  },
  {
   "cell_type": "code",
   "execution_count": 38,
   "metadata": {
    "collapsed": true
   },
   "outputs": [],
   "source": [
    "def best_action(self, state):\n",
    "    \"\"\"\n",
    "    Returns the best action (the one with the maximum Q-value)\n",
    "    or a random action\n",
    "    \"\"\"\n",
    "    # get the rate of random values at this point in time\n",
    "    random_rate = 1.0 - self.time * self.eps\n",
    "\n",
    "    # if random number smaller than random rate, \n",
    "    # the agent picks an unexplored action at the current state\n",
    "    if random.random() < random_rate:\n",
    "        unexplored_actions = [action for action in self.possible_actions\n",
    "                              if (state, action) not in self.qvals.keys()]\n",
    "        if unexplored_actions:\n",
    "            actions = unexplored_actions\n",
    "        else: # if no actions are unexplored in this state, pick any action\n",
    "            actions = self.possible_actions\n",
    "\n",
    "    else:\n",
    "        # get all possible q-values for the state\n",
    "        all_qvals = {action: self.qvals.get((state, action), 0)\n",
    "                     for action in self.possible_actions}        \n",
    "\n",
    "        # pick the actions that yield the largest q-value for the state\n",
    "        actions = [action for action in self.possible_actions \n",
    "                   if all_qvals[action] == max(all_qvals.values())]\n",
    "\n",
    "    # return one of the actions at random\n",
    "    return random.choice(actions)"
   ]
  },
  {
   "cell_type": "markdown",
   "metadata": {},
   "source": [
    "(When picking at random, the agent will pick, if possible, an action that hasn't been performed yet given the state. This increases the exploratory nature of the agent somewhat.)\n",
    "\n",
    "The larger `random_rate`, the more probable it is that the agent will pick an action at random. `eps` is the variable that governs how fast this probability drops, much like `mult` governed how fast the learning rate would drop in the implementation above. \n",
    "\n",
    "Note that at some point `self.time * self.eps` will be larger than 1, and `random.rate` will drop below zero, meaning it will be impossible for the agent to pick an action at random. The idea is that at some point the agent will end its exploratory activity completely, and dedicate itself to exploiting what it's learned. It is possible to modify the formula for `learn_rate` so that a small chance of randomness remains (using something like the formula for `learn_rate` in the previous implementation), but in a setting such as teaching a smartcab to drive at some point you want to completely rule out random actions that translate to a larger chance of performing an illegal move, for instance.\n",
    "\n",
    "I ran several simulations with different values for `eps` using pretty much the same code as the one to vary learning rates:"
   ]
  },
  {
   "cell_type": "code",
   "execution_count": 36,
   "metadata": {
    "collapsed": false
   },
   "outputs": [],
   "source": [
    "def several_random_changes(epses):\n",
    "    \"\"\"\n",
    "    For each eps value in epses, runs a simulation\n",
    "    with a LearningRandomAgent.\n",
    "    Returns a dict with dataframe results for the agent\n",
    "    for each eps value.\n",
    "    \"\"\"\n",
    "    results = {}\n",
    "    for eps in epses:\n",
    "        eps_results = []\n",
    "        for i in range(100):\n",
    "            sim_results = run_random_change(eps)\n",
    "            eps_results.append(sim_results)\n",
    "        df_results = pd.DataFrame(eps_results)\n",
    "        df_results.columns = ['n_dest_reached', 'last_dest_fail', \n",
    "                              'sum_time_left', 'n_penalties',\n",
    "                              'last_penalty', 'len_qvals']\n",
    "        results[eps] = df_results\n",
    "    return results"
   ]
  },
  {
   "cell_type": "markdown",
   "metadata": {},
   "source": [
    "The code for learning agents with probabilistically randomized behavior is [here](https://github.com/lmurtinho/machine-learning/blob/my_projects/projects/smartcab/smartcab/learning_random_agent.py).\n",
    "\n",
    "And here are the results:"
   ]
  },
  {
   "cell_type": "code",
   "execution_count": 37,
   "metadata": {
    "collapsed": false
   },
   "outputs": [],
   "source": [
    "from smartcab.learning_random_agent import several_random_changes\n",
    "\n",
    "epses = [1, 0.5, 0.3, 0.1, 0.05, 0.03, 0.01, 0.005, 0.003, 0.001]\n",
    "\n",
    "learning_random_results = several_random_changes(epses)"
   ]
  },
  {
   "cell_type": "code",
   "execution_count": 39,
   "metadata": {
    "collapsed": false
   },
   "outputs": [
    {
     "data": {
      "image/png": "[encoded data removed]",
      "text/plain": [
       "<matplotlib.figure.Figure at 0xcc57e80>"
      ]
     },
     "metadata": {},
     "output_type": "display_data"
    },
    {
     "data": {
      "image/png": "[encoded data removed]",
      "text/plain": [
       "<matplotlib.figure.Figure at 0xbde7710>"
      ]
     },
     "metadata": {},
     "output_type": "display_data"
    },
    {
     "data": {
      "image/png": "[encoded data removed]",
      "text/plain": [
       "<matplotlib.figure.Figure at 0xcbff4a8>"
      ]
     },
     "metadata": {},
     "output_type": "display_data"
    },
    {
     "data": {
      "image/png": "[encoded data removed]",
      "text/plain": [
       "<matplotlib.figure.Figure at 0xbfda048>"
      ]
     },
     "metadata": {},
     "output_type": "display_data"
    },
    {
     "data": {
      "image/png": "[encoded data removed]",
      "text/plain": [
       "<matplotlib.figure.Figure at 0xb711c88>"
      ]
     },
     "metadata": {},
     "output_type": "display_data"
    },
    {
     "data": {
      "image/png": "[encoded data removed]",
      "text/plain": [
       "<matplotlib.figure.Figure at 0xbe826d8>"
      ]
     },
     "metadata": {},
     "output_type": "display_data"
    }
   ],
   "source": [
    "import pandas as pd\n",
    "\n",
    "random_panel = pd.Panel.from_dict(learning_random_results)\n",
    "for column in df_learning.columns:\n",
    "    sns.boxplot(data=random_panel.minor_xs(column))\n",
    "    plt.title(column)\n",
    "    plt.show()\n",
    "    plt.close()"
   ]
  },
  {
   "cell_type": "markdown",
   "metadata": {},
   "source": [
    "Agents with a smaller `eps` (that is, a larger propensity to explore at random) perform clearly worse in terms of destinations reached and number of penalties. They do, however, tend to explore more of the state space. Which suggests that maybe the exploration-exploitation dilemma is not that large of an issue in this setting: the original learning agent is not very exploratory, but exploring more does not have a clear upside."
   ]
  },
  {
   "cell_type": "markdown",
   "metadata": {},
   "source": [
    "## Final Thoughts\n",
    "\n",
    "No modification of the original learning agent is clearly better than it - and in fact it seems like, on the contrary, my original agent is better than all of the other possibilities analyzed. Given that the original learning agent had results comparable to those of a perfect agent, this is not very surprising.\n",
    "\n",
    "However, there may be some room for improvement in other areas:\n",
    "\n",
    "- Improve the planner. Even a perfect agent, defined as one that follows the planner's recommendation whenever possible, sometimes fails to reach its destination. A better planner could mean less mistakes for the agents.\n",
    "- Increase the number of trials. Even when the agent picks actions completely at random, a large number of `(state, action)` pairs remains unexplored, suggesting some states may come up only rarely. With a larger number of trials, more of the state space can be explored. This could solve the problem of the learning agent still receiving penalties even in the last trials.\n",
    "- Increase the number of other cars in the simulation. Maybe one reason why some states are so rare is the small number of cars on the streets. With more cars, it would be more likely to see full intersections, for instance. As it is now, I believe most of the time there are only one or two cars per intersection, and some states come up only rarely.\n"
   ]
  },
  {
   "cell_type": "markdown",
   "metadata": {},
   "source": [
    "## Project Rubric Rundown\n",
    "\n",
    "Let's quickly review the [project rubric](https://review.udacity.com/#!/rubrics/106/view) and fill any remaining gaps:\n",
    "\n",
    "\n",
    "\n",
    "- Implement a basic driving agent\n",
    "    - Agent accepts inputs\n",
    "    - Produces a valid output\n",
    "    - Runs in simulator\n",
    "- Identify and update state\n",
    "    - Reasonable states identified\n",
    "    - Agent updates state\n",
    "\t\n",
    "The tasks above were implemented in the basic agent (code [here](https://github.com/lmurtinho/machine-learning/blob/my_projects/projects/smartcab/smartcab/basic_agent.py)). The states were identified and discussed in the section \"Task 2: Identify and Update State\" above.\n",
    "\n",
    "- Implement Q-Learning\n",
    "    - Agent updates Q-values\n",
    "    - Picks the best action\n",
    "    - Given the current set of Q-values for a state, it picks the best available action.\n",
    "    - Changes in behavior explained\n",
    "\n",
    "The tasks above were implemented in the learning agent (code [here](https://github.com/lmurtinho/machine-learning/blob/my_projects/projects/smartcab/smartcab/learning_agent.py)). The changes between agentes were presented in tables along the report. To summarize, the basic agent merely drives at random, and only reaches its destination by accident; while the learning agent presents a similar erratic beahvior at the beginning of the simulation but quickly starts aiming for the destination, indicating it is learning to pick as action the next waypoint. It also learns to avoid illegal moves as time goes by.\n",
    "\n",
    "- Enhance the driving agent\n",
    "    - Agent learns a feasible policy within 100 trials\n",
    "    - Improvements reported\n",
    "    - Final agent performance discussed\n",
    "\n",
    "The original learning agent from the previous step was already able to learn a feasible policy within 100 trials, getting results that were close to a perfect agent's, as discussed above. I tried to tweak some parameters to improve the main problem with my learning agent (frequently getting late penalties), but none of the changes implemented were of help. These modifications include [optimism in the face of uncertainty](https://github.com/lmurtinho/machine-learning/blob/my_projects/projects/smartcab/smartcab/optimistic_agent.py), [modified learning rates](https://github.com/lmurtinho/machine-learning/blob/my_projects/projects/smartcab/smartcab/rate_change_agent.py) and [occasional random actions](https://github.com/lmurtinho/machine-learning/blob/my_projects/projects/smartcab/smartcab/learning_random_agent.py).\n",
    "\n",
    "My final agent (code [here](https://github.com/lmurtinho/machine-learning/blob/my_projects/projects/smartcab/smartcab/agent.py)) is actually the first agent I came up with. It gets very close to the perfect agent in terms of number of reaching its destination, but incurs in much more penalties, and occasionally is penalized in late trials. I believe this could be fixed by either increasing the number of trials (i.e., extending the learning period) or the number of cars in the world, so that more `(state, action)` pairs would be visited by the agent. \n",
    "\n",
    "As stated and above and coded [here](https://github.com/lmurtinho/machine-learning/blob/my_projects/projects/smartcab/smartcab/perfect_agent.py), the perfect agent is one that always picks `next_waypoint` as its action and obey traffic rules - that is, it's an agent whose action is always either `next_waypoint` or, when said action cannot be performed, `None`."
   ]
  },
  {
   "cell_type": "markdown",
   "metadata": {},
   "source": [
    "## Bonus: Changing the State Space\n",
    "\n",
    "I [checked on the Udacity forum](https://discussions.udacity.com/t/i-dont-know-if-this-idea-is-a-kind-of-cheating/170894/19?u=lucas_murtinho) and I'm not allowed to do this, but what if I were to work on the inputs before passing them to the Q-learning function? "
   ]
  },
  {
   "cell_type": "code",
   "execution_count": null,
   "metadata": {
    "collapsed": true
   },
   "outputs": [],
   "source": [
    "def update(self, t):\n",
    "    # Gather inputs\n",
    "    self.next_waypoint = self.planner.next_waypoint()  # from route planner, also displayed by simulator\n",
    "    inputs = self.env.sense(self)\n",
    "    deadline = self.env.get_deadline(self)\n",
    "\n",
    "    # update time and learning rate\n",
    "    self.time += 1\n",
    "\n",
    "    ok_forward = (inputs['light'] == 'green')\n",
    "    ok_right = (inputs['light'] == 'green') or \\\n",
    "        ((inputs['oncoming'] != 'left') and (inputs['left'] != 'forward'))\n",
    "    ok_left = all([inputs['light'] == 'green',\n",
    "                   inputs['oncoming'] != 'forward',\n",
    "                   inputs['oncoming'] != 'right'])\n",
    "\n",
    "    # Update state\n",
    "    self.state = (ok_forward, ok_right, ok_left, self.next_waypoint)\n",
    "\n",
    "    # Pick the best known action\n",
    "    action = self.best_action(self.state)\n",
    "\n",
    "    # Execute action and get reward\n",
    "    reward = self.env.act(self, action)\n",
    "    if reward < 0:\n",
    "        self.n_penalties += 1\n",
    "\n",
    "    # Update the q-value of the (state, action) pair\n",
    "    self.update_qvals(self.state, action, reward)"
   ]
  },
  {
   "cell_type": "markdown",
   "metadata": {},
   "source": [
    "Now each state is a tuple with 4 values: whether it's okay to go forward, turn right, or turn left (2 options each), and the next waypoint (3 possibilities). Multiplying this by 4 possible actions, we have a slim 96 possible `(state, action)` pairs."
   ]
  },
  {
   "cell_type": "code",
   "execution_count": 41,
   "metadata": {
    "collapsed": false
   },
   "outputs": [
    {
     "data": {
      "text/html": [
       "<div>\n",
       "<table border=\"1\" class=\"dataframe\">\n",
       "  <thead>\n",
       "    <tr style=\"text-align: right;\">\n",
       "      <th></th>\n",
       "      <th>n_dest_reached</th>\n",
       "      <th>last_dest_fail</th>\n",
       "      <th>sum_time_left</th>\n",
       "      <th>n_penalties</th>\n",
       "      <th>last_penalty</th>\n",
       "      <th>len_qvals</th>\n",
       "    </tr>\n",
       "  </thead>\n",
       "  <tbody>\n",
       "    <tr>\n",
       "      <th>count</th>\n",
       "      <td>100.000000</td>\n",
       "      <td>100.000000</td>\n",
       "      <td>100.000000</td>\n",
       "      <td>100.000000</td>\n",
       "      <td>100.000000</td>\n",
       "      <td>100.000000</td>\n",
       "    </tr>\n",
       "    <tr>\n",
       "      <th>mean</th>\n",
       "      <td>99.270000</td>\n",
       "      <td>8.210000</td>\n",
       "      <td>1783.660000</td>\n",
       "      <td>19.100000</td>\n",
       "      <td>71.920000</td>\n",
       "      <td>26.840000</td>\n",
       "    </tr>\n",
       "    <tr>\n",
       "      <th>std</th>\n",
       "      <td>3.123243</td>\n",
       "      <td>21.936223</td>\n",
       "      <td>97.907627</td>\n",
       "      <td>16.706921</td>\n",
       "      <td>23.446772</td>\n",
       "      <td>3.196336</td>\n",
       "    </tr>\n",
       "    <tr>\n",
       "      <th>min</th>\n",
       "      <td>69.000000</td>\n",
       "      <td>0.000000</td>\n",
       "      <td>1114.000000</td>\n",
       "      <td>10.000000</td>\n",
       "      <td>2.000000</td>\n",
       "      <td>20.000000</td>\n",
       "    </tr>\n",
       "    <tr>\n",
       "      <th>25%</th>\n",
       "      <td>99.000000</td>\n",
       "      <td>0.000000</td>\n",
       "      <td>1745.750000</td>\n",
       "      <td>14.750000</td>\n",
       "      <td>59.250000</td>\n",
       "      <td>25.000000</td>\n",
       "    </tr>\n",
       "    <tr>\n",
       "      <th>50%</th>\n",
       "      <td>100.000000</td>\n",
       "      <td>0.000000</td>\n",
       "      <td>1789.000000</td>\n",
       "      <td>16.000000</td>\n",
       "      <td>75.500000</td>\n",
       "      <td>27.000000</td>\n",
       "    </tr>\n",
       "    <tr>\n",
       "      <th>75%</th>\n",
       "      <td>100.000000</td>\n",
       "      <td>1.000000</td>\n",
       "      <td>1833.250000</td>\n",
       "      <td>19.000000</td>\n",
       "      <td>90.250000</td>\n",
       "      <td>29.000000</td>\n",
       "    </tr>\n",
       "    <tr>\n",
       "      <th>max</th>\n",
       "      <td>100.000000</td>\n",
       "      <td>96.000000</td>\n",
       "      <td>1979.000000</td>\n",
       "      <td>166.000000</td>\n",
       "      <td>100.000000</td>\n",
       "      <td>35.000000</td>\n",
       "    </tr>\n",
       "  </tbody>\n",
       "</table>\n",
       "</div>"
      ],
      "text/plain": [
       "       n_dest_reached  last_dest_fail  sum_time_left  n_penalties  \\\n",
       "count      100.000000      100.000000     100.000000   100.000000   \n",
       "mean        99.270000        8.210000    1783.660000    19.100000   \n",
       "std          3.123243       21.936223      97.907627    16.706921   \n",
       "min         69.000000        0.000000    1114.000000    10.000000   \n",
       "25%         99.000000        0.000000    1745.750000    14.750000   \n",
       "50%        100.000000        0.000000    1789.000000    16.000000   \n",
       "75%        100.000000        1.000000    1833.250000    19.000000   \n",
       "max        100.000000       96.000000    1979.000000   166.000000   \n",
       "\n",
       "       last_penalty   len_qvals  \n",
       "count    100.000000  100.000000  \n",
       "mean      71.920000   26.840000  \n",
       "std       23.446772    3.196336  \n",
       "min        2.000000   20.000000  \n",
       "25%       59.250000   25.000000  \n",
       "50%       75.500000   27.000000  \n",
       "75%       90.250000   29.000000  \n",
       "max      100.000000   35.000000  "
      ]
     },
     "execution_count": 41,
     "metadata": {},
     "output_type": "execute_result"
    }
   ],
   "source": [
    "from smartcab.new_state_agent import NewStateAgent\n",
    "\n",
    "df_new_state = run_sims(100, 100, NewStateAgent)\n",
    "df_new_state.describe()"
   ]
  },
  {
   "cell_type": "markdown",
   "metadata": {},
   "source": [
    "Alright, now `last_penalty` is significantly down, and the number of destinations reached remains similar to the original learning agent. Let's visualize how this implementation compares to the original learning agent, the optimistic one and the perfect one:"
   ]
  },
  {
   "cell_type": "code",
   "execution_count": 42,
   "metadata": {
    "collapsed": false
   },
   "outputs": [
    {
     "data": {
      "image/png": "[encoded data removed]",
      "text/plain": [
       "<matplotlib.figure.Figure at 0xd54bcc0>"
      ]
     },
     "metadata": {},
     "output_type": "display_data"
    },
    {
     "data": {
      "image/png": "[encoded data removed]",
      "text/plain": [
       "<matplotlib.figure.Figure at 0xcbcf5c0>"
      ]
     },
     "metadata": {},
     "output_type": "display_data"
    },
    {
     "data": {
      "image/png": "[encoded data removed]",
      "text/plain": [
       "<matplotlib.figure.Figure at 0xcc5aba8>"
      ]
     },
     "metadata": {},
     "output_type": "display_data"
    },
    {
     "data": {
      "image/png": "[encoded data removed]",
      "text/plain": [
       "<matplotlib.figure.Figure at 0x942ed68>"
      ]
     },
     "metadata": {},
     "output_type": "display_data"
    },
    {
     "data": {
      "image/png": "[encoded data removed]",
      "text/plain": [
       "<matplotlib.figure.Figure at 0xc2a3e48>"
      ]
     },
     "metadata": {},
     "output_type": "display_data"
    },
    {
     "data": {
      "image/png": "[encoded data removed]",
      "text/plain": [
       "<matplotlib.figure.Figure at 0xd50b358>"
      ]
     },
     "metadata": {},
     "output_type": "display_data"
    }
   ],
   "source": [
    "results = {'original': df_learning,\n",
    "           'optimistic': df_optimistic,\n",
    "           'new_state': df_new_state,\n",
    "           'perfect': df_perfect}\n",
    "\n",
    "final_panel = pd.Panel.from_dict(results)\n",
    "for column in df_learning.columns:\n",
    "    sns.boxplot(data=final_panel.minor_xs(column))\n",
    "    plt.title(column)\n",
    "    plt.show()\n",
    "    plt.close()"
   ]
  },
  {
   "cell_type": "markdown",
   "metadata": {},
   "source": [
    "That's a clear improvement across the board, with a far simpler state space.\n",
    "\n",
    "Is this cheating? Maybe. But imagine you're trying to use reinforcement learning to teach a program to play chess. I think it's fair to say you would hardcode how the pieces move and then let the learner play, instead of making it first figure out that pawns can't move back and bishops only move diagonally. So, it's reasonable to expect the rules of the game will be known in advance - and I'm not even doing that: I'm just passing a simpler state for the agent's Q-learning function, but it still needs to figure out how this state applies. So this might be fair game after all."
   ]
  },
  {
   "cell_type": "code",
   "execution_count": null,
   "metadata": {
    "collapsed": true
   },
   "outputs": [],
   "source": []
  }
 ],
 "metadata": {
  "kernelspec": {
   "display_name": "Python 2",
   "language": "python",
   "name": "python2"
  },
  "language_info": {
   "codemirror_mode": {
    "name": "ipython",
    "version": 2
   },
   "file_extension": ".py",
   "mimetype": "text/x-python",
   "name": "python",
   "nbconvert_exporter": "python",
   "pygments_lexer": "ipython2",
   "version": "2.7.11"
  }
 },
 "nbformat": 4,
 "nbformat_minor": 0
}
