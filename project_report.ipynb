{
 "cells": [
  {
   "cell_type": "markdown",
   "metadata": {},
   "source": [
    "# Project 4 Report\n",
    "\n",
    "This is my report by Project 4 of the Machine Learning Engineer Nanodegree - **Teach a Smartcab How to Drive**. In this project I used reinforcement learning techniques to teach an engine how to play a simple game of reaching a destination on a grid-like world given some restrictions. The project description can be found [here](https://classroom.udacity.com/nanodegrees/nd009/parts/0091345409/modules/540405889375461/lessons/5404058893239847/concepts/54440204820923), and my code for the project is on [this github repo](https://github.com/lmurtinho/machine-learning/tree/my_projects/projects/smartcab).\n",
    "\n",
    "## Task 0: Implementing a Perfect Agent\n",
    "\n",
    "Although this is not a requirement, it is relatively simple, given the inputs, to define a set of rules that result in an agent that will always take the right action. The next move is given by the `self.next_waypoint` variable inside the `update` method of our agent; the only thing to do is take care that the agent will only perform the next move when it can, following the right-of-way rules in the project description, reproduced below:\n",
    "\n",
    ">US right-of-way rules apply: On a green light, you can turn left only if there is no oncoming traffic at the intersection coming straight. On a red light, you can turn right if there is no oncoming traffic turning left or traffic from the left going straight.\n",
    "\n",
    "So, a simple set of rules should suffice to make our agent perfect:"
   ]
  },
  {
   "cell_type": "code",
   "execution_count": 1,
   "metadata": {
    "collapsed": true
   },
   "outputs": [],
   "source": [
    "# this is a method of an Agent object\n",
    "def update(self, t):\n",
    "    # Gather inputs\n",
    "    self.next_waypoint = self.planner.next_waypoint()  # from route planner, also displayed by simulator\n",
    "    inputs = self.env.sense(self)\n",
    "    deadline = self.env.get_deadline(self)\n",
    "    \n",
    "    # The next best move is given by the planner\n",
    "    action = self.next_waypoint\n",
    "    \n",
    "    # On a red light, the agent can only turn right, and even so only if:\n",
    "    # - no oncoming traffic is going left\n",
    "    # - no traffic from the left is going forward\n",
    "    if inputs['light'] == 'red':\n",
    "        if (action != 'right') or (inputs['oncoming'] == 'left') or (inputs['left'] == 'forward'):\n",
    "            action = None\n",
    "    \n",
    "    # On a green light, the agent cannot turn left if there is\n",
    "    # oncoming traffic going forward\n",
    "    elif inputs['oncoming'] == 'forward' and action == 'left':\n",
    "        action = None"
   ]
  },
  {
   "cell_type": "markdown",
   "metadata": {},
   "source": [
    "The \"perfect agent\" version of the code is stored in [this Github commit](https://github.com/lmurtinho/machine-learning/tree/c743b492c1f1b033ff0724fece542e6a01901540).\n",
    "\n",
    "However, the goal of the project is to build an agent that can *learn these rules by itself*. Let's follow the project's rubric and see how it goes.\n",
    "\n",
    "## Task 1: Implement a Basic Driving Agent\n",
    "\n",
    "According to the project's instructions, the basic driving agent should \"produce some random move/action.\" That's easy enough: "
   ]
  },
  {
   "cell_type": "code",
   "execution_count": 2,
   "metadata": {
    "collapsed": true
   },
   "outputs": [],
   "source": [
    "import random\n",
    "\n",
    "def update(self, t):\n",
    "    # Gather inputs\n",
    "    self.next_waypoint = self.planner.next_waypoint()  # from route planner, also displayed by simulator\n",
    "    inputs = self.env.sense(self)\n",
    "    deadline = self.env.get_deadline(self)\n",
    "    \n",
    "    # Do something random\n",
    "    action = random.choice(['right', 'left', 'forward', None])"
   ]
  },
  {
   "cell_type": "markdown",
   "metadata": {},
   "source": [
    "With this strategy, the agent may reach its destination on time, but only if it gets lucky. When the deadline is not enforced, the agent will eventually get there - but it can take a long time, since it's not at all actually aiming for it. The agent also gets lots of penalties for incurring in illegal moves, such as trying to go forward when the light is red. \n",
    "\n",
    "The \"random agent\" version of the code is stored in [this Github commit](https://github.com/lmurtinho/machine-learning/tree/bbdc04d70cc31e2b8071bcf8356e9b752aed29ef).\n",
    "\n",
    "From this behavior (and the behavior of the perfect agent implemented before) we can begin to think about what information needs to be in the state for the agent to learn the appropriate behavior: it needs to know where the destination is, as well as information about its surroundings (if the light is green or red and whether right-of-way rules imply it should stay put). "
   ]
  },
  {
   "cell_type": "markdown",
   "metadata": {},
   "source": [
    "## Task 2: Identify and Update State\n",
    "\n",
    "The following information is available for the agent at each update:\n",
    "\n",
    "- *Light*: whether the light is red or green. As mentioned above, a green light means the agent can perform the next action, with the possible exception of a left turn, while a red light means the agent should stay put, with the possible exception of a right turn. So, it is important to add the light to the state.\n",
    "- *Oncoming*: whether there is oncoming traffic, and which direction it is going. As mentioned above, oncoming traffic may mean the agent cannot turn left or right, so this information needs to be in the state as well.\n",
    "- *Right*: whether there is traffic from the right of the agent, and which direction it is going. Right-of-way rules don't mention traffic to the right at any point, so this is unnecessary information that doesn't need to be in the state for the agent to learn the optimal policy.\n",
    "- *Left*: whether there is traffic from the left of the agent, and which direction it is going. Traffic from the left going straight means the agent cannot turn right on a red light, so this needs to be in the state.\n",
    "- *Next waypoint*: the direction the agent should go to reach the destination. Without this information, the agent does not know where to go next and might as well wonder around randomly, so this needs to go in the state.\n",
    "- *Deadline*: how much time the agent has left to reach its destination. At first, I would say this is not meaningful information for the agent, since it doesn't change right-of-way rules nor the best route. I thought about adding it to the state anyway, but this would mean a large increase in the number of possible states. Using only `light` (red or green), `oncoming` (None, left, right, or forward), `left` (None, left, right, or forward) and `next_waypoint` (left, right, or forward), we have $2\\times4\\times4\\times3=96$ possible states. Adding `deadline` would mean multiplying this number by 50, if not more. So I'll keep `deadline` off my state for now.\n",
    "\n",
    "There is the possibility of combining inputs to create a state. Maybe I could define the state in such a way that the allowed actions would be immediately available for the agent; for instance, I could come up with a `turn_right` variable that would check if the agent can turn right, and add that variable to the state. At least for now, though, I'd rather see how the agent deals with the \"raw\" variables; I can tweak the state later to try and get the agent to find the optimal policy.  "
   ]
  },
  {
   "cell_type": "code",
   "execution_count": 3,
   "metadata": {
    "collapsed": true
   },
   "outputs": [],
   "source": [
    "import random\n",
    "\n",
    "def update(self, t):\n",
    "    # Gather inputs\n",
    "    self.next_waypoint = self.planner.next_waypoint()  # from route planner, also displayed by simulator\n",
    "    inputs = self.env.sense(self)\n",
    "    deadline = self.env.get_deadline(self)\n",
    "    \n",
    "    # update state\n",
    "    self.state = (inputs['light'], inputs['oncoming'], inputs['left'],\n",
    "                  self.next_waypoint)\n",
    "    \n",
    "    # Do something random\n",
    "    action = random.choice(['right', 'left', 'forward', None])"
   ]
  },
  {
   "cell_type": "markdown",
   "metadata": {},
   "source": [
    "The version of the code with a state is stored in [this Github commit](https://github.com/lmurtinho/machine-learning/tree/f5a6241f8d29a6d53e98ecc79715cd69947ad348)."
   ]
  },
  {
   "cell_type": "markdown",
   "metadata": {
    "collapsed": true
   },
   "source": [
    "## Task 3: Implement Q-Learning\n",
    "In this step our agent begins to learn from its actions. The project specifically says to \"pick the best action available from the current state based on Q-values,\" so I'll leave the exploration-exploitation dilemma for the next section.\n",
    "\n",
    "### Deciding on the Appropriate Q-learning Function \n",
    "\n",
    "The general form of the $Q$-function is: \n",
    "\n",
    "$Q(s, a) = R(s) + \\gamma\\underset{s'}\\sum T(s,a,s')\\underset{a'}{\\operatorname{max}}Q(s', a')$\n",
    "\n",
    "That is, the $Q$-value for a given `(state, action)` pair is the the reward for that state, $R(s)$, plus the discounted expected value of $Q$ for the next state the agent lands in, considering the transition function $T(s,a,s') = \\Pr(s' \\mid s,a)$ (the probability of landing on state $s'$ coming from state $s$ and performing action $a$) and that, whatever $s'$ is, the agent will maximize $Q$ from there on.\n",
    "\n",
    "The $Q$-learning update function is given by:\n",
    "\n",
    "$\\hat{Q}_t(s, a) = (1 - \\alpha_t)\\hat{Q}_{t-1}(s, a) + \\alpha_t(r + \\gamma\\underset{a'}{\\operatorname{max}}\\hat{Q}_{t-1}(s', a'))$\n",
    "\n",
    "That is, our estimate of the $Q$-value for the `(state, action)` pair is updated with the learning rate ($\\alpha_t$, which varies over time) by the observed reward ($r$) and our previous estimate of the Q-value for the observed next state ($s'$), discounted by the discount factor ($\\gamma$) and considering the agent will pick the action $a'$ that maximizes $Q$ from the next state on.\n",
    "\n",
    "However, in this case there's no need to worry about the future state, since the agent gets an immediate reward for doing the right thing. According to the project description:\n",
    "\n",
    ">The smartcab gets a reward for each successfully completed trip. A trip is considered “successfully completed” if the passenger is dropped off at the desired destination (some intersection) within a pre-specified time bound (computed with a route plan).\n",
    "\n",
    ">It also gets a smaller reward for each correct move executed at an intersection. It gets a small penalty for an incorrect move, and a larger penalty for violating traffic rules and/or causing an accident.\n",
    "\n",
    "So, even though the larger reward is only reaped once the agent reaches its destination, there are smaller rewards for following the correct path, and penalties for not doing so. This should be enough for the agent to learn the best policy.\n",
    "\n",
    "Granted, ignoring the agent's future decisions means I'm not using some information that could be of help. But the upside is a simplification of the problem: it's as if the agent is playing a 1-round game over and over, with immediate rewards for immediate actions. I expect this simplification more than compensates ignoring long-term rewards in this particular setting.\n",
    "\n",
    "### Q-learning implementation\n",
    "\n",
    "This means I won't actually bother with keeping track of the state the agent ends up in after performing an action (or, to be more technical, I'm setting the discount factor $\\gamma$ to zero). My update function will then simply be $\\hat{Q}_t(s, a) = (1 - \\alpha_t)\\hat{Q}_{t-1}(s, a) + \\alpha_tr$.\n",
    "\n",
    "Here's what I'll do:\n",
    "- Initialize `agent.qvals` as an empty dictionary and `agent.time` as 0 when the agent is initialized. \n",
    "- Define a `best_action()` method that takes a state and returns the best action (or one of the best actions) given the current Q-values:"
   ]
  },
  {
   "cell_type": "code",
   "execution_count": 4,
   "metadata": {
    "collapsed": true
   },
   "outputs": [],
   "source": [
    "# agent method\n",
    "def best_action(self, state):\n",
    "    \"\"\"\n",
    "    Returns the best action (the one with the maximum Q-value)\n",
    "    or one of the best actions, given a state.\n",
    "    \"\"\"\n",
    "    # get all possible q-values for the state \n",
    "    all_qvals = {action: self.qvals.get((state, action), 0)\n",
    "                 for action in self.possible_actions}        \n",
    "\n",
    "    # pick the actions that yield the largest q-value for the state\n",
    "    best_actions = [action for action in self.possible_actions \n",
    "                    if all_qvals[action] == max(all_qvals.values())]\n",
    "\n",
    "    # return one of the best actions at random\n",
    "    return random.choice(best_actions)  "
   ]
  },
  {
   "cell_type": "markdown",
   "metadata": {},
   "source": [
    "- In the `update()` agent method: \n",
    "    - increment the time by 1\n",
    "    - set the learning rate as 1/time\n",
    "    - pick the action using `best_action()`\n",
    "    - update the value for the `(state, action)` pair in the `qvals` with the reward."
   ]
  },
  {
   "cell_type": "code",
   "execution_count": 5,
   "metadata": {
    "collapsed": false
   },
   "outputs": [],
   "source": [
    "# agente method\n",
    "def update(self, t):\n",
    "    # Gather inputs\n",
    "    self.next_waypoint = self.planner.next_waypoint()  # from route planner, also displayed by simulator\n",
    "    inputs = self.env.sense(self)\n",
    "    deadline = self.env.get_deadline(self)\n",
    "\n",
    "    # update time and learning rate\n",
    "    self.time += 1\n",
    "    learn_rate = 1.0 / self.time\n",
    "\n",
    "    # Update state\n",
    "    self.state = (inputs['light'], inputs['oncoming'], inputs['left'],\n",
    "                  self.next_waypoint)\n",
    "\n",
    "    # Pick the best known action\n",
    "    action = self.best_action(self.state)\n",
    "\n",
    "    # Execute action and get reward\n",
    "    reward = self.env.act(self, action)\n",
    "\n",
    "    # Update the q-value of the (state, action) pair\n",
    "    self.qvals[(self.state, action)] = \\\n",
    "        (1 - learn_rate) * self.qvals.get((self.state, action), 0) + \\\n",
    "        learn_rate * reward"
   ]
  },
  {
   "cell_type": "markdown",
   "metadata": {},
   "source": [
    "This version of the code is stored in [this Github commit](https://github.com/lmurtinho/machine-learning/tree/0a81431628b75a021c2698c2f2897c0032d39db7)."
   ]
  },
  {
   "cell_type": "markdown",
   "metadata": {},
   "source": [
    "## Task 4: Enhance the Driving Agent\n",
    "\n",
    "The last task, according to the project description, is:\n",
    "\n",
    "> Apply the reinforcement learning techniques you have learnt, and tweak the parameters (e.g. learning rate, discount factor, action selection method, etc.), to improve the performance of your agent. Your goal is to get it to a point so that within 100 trials, the agent is able to learn a feasible policy - i.e. reach the destination within the allotted time, with net reward remaining positive.\n",
    "\n",
    "This goal is reached with the implementation presented above. Although there are instances in which, with 90+ trials, the agent will pick a wrong action from time to time, in my tests it rarely failed to reach the destination after 60+ trials.\n",
    "\n",
    "But that doesn't mean the agent can't be modified, and it certainly means it can be improved. According to [one of the videos](https://www.udacity.com/course/viewer#!/c-ud728-nd/l-5446820041/m-634899064) in the Reinforcement Learning course, there are three characteristics that can change a Q-learning algorithm:\n",
    "\n",
    "- How Q-values are initialized\n",
    "- How the learning rate decays\n",
    "- How the action is picked\n",
    "\n",
    "I'll change each one of these three characteristics at a time, and then I'll tackle everything at once to see it I can get a better learning agent.\n",
    "\n",
    "### Baseline Comparison\n",
    "\n",
    "Before modifying my agent, I need to define what a \"better\" agent would look like. Some ideas come to mind:\n",
    "\n",
    "- A better agent would have a larger sum of rewards over time\n",
    "- A better agent would reach its destination more often\n",
    "- A better agent would learn faster\n",
    "- A better agent would make fewer mistakes\n",
    "- A better agent would explore as much of the world as possible\n",
    "\n",
    "Some of these may be redundant in this setting: more rewards, for instance, probably means fewer mistakes, and vice-versa. Still, I think this is a good starting point. So I'll keep track of the following variables:\n",
    "\n",
    "- `reward_sum`: the sum of rewards for an agent over a simulation\n",
    "- `disc_reward_sum`: the sum of rewards *discounted over time*, so that an agen that heaps larger rewards faster (i.e. learns faster) will have a larger `disc_reward`\n",
    "- `n_dest_reached`: the number of times the agent has reached its destination\n",
    "- `last_dest_fail`: the most recent trial in which the agent did not reach its destination\n",
    "- `sum_time_left`: the sum over all trials of the steps the agent still had available when it reached its destination (0 if it never reached it)\n",
    "- `n_penalties`: the number of penalties incurred by the agent\n",
    "- `last_penalty`: the most recent trial in which the agent received a penalty\n",
    "- `len_qvals`: how many Q-values are mapped in the agent's Q-function - that is, how many `(state, action)` pairs it visited during the simulation\n",
    "\n",
    "Here are the basic statistics for my baseline agent, after running 100 simulations with 100 trials each:"
   ]
  },
  {
   "cell_type": "code",
   "execution_count": 6,
   "metadata": {
    "collapsed": false
   },
   "outputs": [
    {
     "data": {
      "text/html": [
       "<div>\n",
       "<table border=\"1\" class=\"dataframe\">\n",
       "  <thead>\n",
       "    <tr style=\"text-align: right;\">\n",
       "      <th></th>\n",
       "      <th>reward_sum</th>\n",
       "      <th>disc_reward_sum</th>\n",
       "      <th>n_dest_reached</th>\n",
       "      <th>last_dest_fail</th>\n",
       "      <th>sum_time_left</th>\n",
       "      <th>n_penalties</th>\n",
       "      <th>last_penalty</th>\n",
       "      <th>len_qvals</th>\n",
       "    </tr>\n",
       "  </thead>\n",
       "  <tbody>\n",
       "    <tr>\n",
       "      <th>count</th>\n",
       "      <td>100.000000</td>\n",
       "      <td>100.000000</td>\n",
       "      <td>100.000000</td>\n",
       "      <td>100.000000</td>\n",
       "      <td>100.000000</td>\n",
       "      <td>100.000000</td>\n",
       "      <td>100.000000</td>\n",
       "      <td>100.000000</td>\n",
       "    </tr>\n",
       "    <tr>\n",
       "      <th>mean</th>\n",
       "      <td>2218.360000</td>\n",
       "      <td>76.857365</td>\n",
       "      <td>99.240000</td>\n",
       "      <td>16.370000</td>\n",
       "      <td>1747.400000</td>\n",
       "      <td>31.250000</td>\n",
       "      <td>92.920000</td>\n",
       "      <td>49.400000</td>\n",
       "    </tr>\n",
       "    <tr>\n",
       "      <th>std</th>\n",
       "      <td>40.326764</td>\n",
       "      <td>21.534641</td>\n",
       "      <td>1.006243</td>\n",
       "      <td>29.570889</td>\n",
       "      <td>67.273751</td>\n",
       "      <td>17.244162</td>\n",
       "      <td>5.864945</td>\n",
       "      <td>6.780841</td>\n",
       "    </tr>\n",
       "    <tr>\n",
       "      <th>min</th>\n",
       "      <td>2124.000000</td>\n",
       "      <td>40.248500</td>\n",
       "      <td>92.000000</td>\n",
       "      <td>0.000000</td>\n",
       "      <td>1516.000000</td>\n",
       "      <td>20.000000</td>\n",
       "      <td>72.000000</td>\n",
       "      <td>34.000000</td>\n",
       "    </tr>\n",
       "    <tr>\n",
       "      <th>25%</th>\n",
       "      <td>2185.875000</td>\n",
       "      <td>61.049489</td>\n",
       "      <td>99.000000</td>\n",
       "      <td>0.000000</td>\n",
       "      <td>1710.000000</td>\n",
       "      <td>25.750000</td>\n",
       "      <td>90.000000</td>\n",
       "      <td>44.000000</td>\n",
       "    </tr>\n",
       "    <tr>\n",
       "      <th>50%</th>\n",
       "      <td>2217.750000</td>\n",
       "      <td>73.482848</td>\n",
       "      <td>99.000000</td>\n",
       "      <td>1.000000</td>\n",
       "      <td>1754.500000</td>\n",
       "      <td>28.000000</td>\n",
       "      <td>94.000000</td>\n",
       "      <td>49.000000</td>\n",
       "    </tr>\n",
       "    <tr>\n",
       "      <th>75%</th>\n",
       "      <td>2244.875000</td>\n",
       "      <td>87.325426</td>\n",
       "      <td>100.000000</td>\n",
       "      <td>11.250000</td>\n",
       "      <td>1789.500000</td>\n",
       "      <td>32.000000</td>\n",
       "      <td>98.000000</td>\n",
       "      <td>54.000000</td>\n",
       "    </tr>\n",
       "    <tr>\n",
       "      <th>max</th>\n",
       "      <td>2313.500000</td>\n",
       "      <td>150.830346</td>\n",
       "      <td>100.000000</td>\n",
       "      <td>100.000000</td>\n",
       "      <td>1888.000000</td>\n",
       "      <td>162.000000</td>\n",
       "      <td>100.000000</td>\n",
       "      <td>68.000000</td>\n",
       "    </tr>\n",
       "  </tbody>\n",
       "</table>\n",
       "</div>"
      ],
      "text/plain": [
       "        reward_sum  disc_reward_sum  n_dest_reached  last_dest_fail  \\\n",
       "count   100.000000       100.000000      100.000000      100.000000   \n",
       "mean   2218.360000        76.857365       99.240000       16.370000   \n",
       "std      40.326764        21.534641        1.006243       29.570889   \n",
       "min    2124.000000        40.248500       92.000000        0.000000   \n",
       "25%    2185.875000        61.049489       99.000000        0.000000   \n",
       "50%    2217.750000        73.482848       99.000000        1.000000   \n",
       "75%    2244.875000        87.325426      100.000000       11.250000   \n",
       "max    2313.500000       150.830346      100.000000      100.000000   \n",
       "\n",
       "       sum_time_left  n_penalties  last_penalty   len_qvals  \n",
       "count     100.000000   100.000000    100.000000  100.000000  \n",
       "mean     1747.400000    31.250000     92.920000   49.400000  \n",
       "std        67.273751    17.244162      5.864945    6.780841  \n",
       "min      1516.000000    20.000000     72.000000   34.000000  \n",
       "25%      1710.000000    25.750000     90.000000   44.000000  \n",
       "50%      1754.500000    28.000000     94.000000   49.000000  \n",
       "75%      1789.500000    32.000000     98.000000   54.000000  \n",
       "max      1888.000000   162.000000    100.000000   68.000000  "
      ]
     },
     "execution_count": 6,
     "metadata": {},
     "output_type": "execute_result"
    }
   ],
   "source": [
    "import pandas as pd\n",
    "\n",
    "df_original = pd.DataFrame.from_csv(\"original_agent_results.csv\")\n",
    "df_original.describe()"
   ]
  },
  {
   "cell_type": "markdown",
   "metadata": {},
   "source": [
    "(The csv file with the results described above is [here](https://github.com/lmurtinho/machine-learning/blob/63dbdf6cef703a2ea8e5839bcd400bc3f46f7aaf/projects/smartcab/original_agent_results.csv).)\n",
    "\n",
    "`reward_sum`, `disc_reward_sum`, `sum_time_left`, `n_penalties` and `len_qvals` will make more sense when compared with the results from other agents, but there's already something to be said about the other variables:\n",
    "\n",
    "- In all simulations, more than 50% of destinations are reached on time, and in most simulations only one destination is not reached. So the primary goal of getting to the destination is being met.\n",
    "- For most simulations, after 35 trials there is no more failures to reach a destination. But there are some simulations in which later trials result in failures.\n",
    "- The agent keeps getting penalties (for an incorrect or invalid move) even quite late in most simulations - a sign that the earlier trials could use more exploration and less exploitation.\n",
    "\n",
    "Overall, this still seems like a solid learning agent, but let's see if some tweaks can make it better.\n",
    "\n",
    "### Changing Initial Q-Values\n",
    "\n",
    "One Q-learning implementation briefly discussed in the Reinforcement Learning lessons for this project is \"optimism in the face of uncertainty\". The idea is that high initial Q-values (implying an \"optimistic\" agent in the sense that it initially believes all possible actions will yield excellent rewards) lead to an explorative agent, because it will delay exploiting familiar paths, since those will end up with lower Q-values than its initial estimate.\n",
    "\n",
    "All it takes for my original agent to become optimistic is changing the value it gets when the `(state, action)` pair is not yet a key in `qvals`:"
   ]
  },
  {
   "cell_type": "code",
   "execution_count": 7,
   "metadata": {
    "collapsed": true
   },
   "outputs": [],
   "source": [
    "import random\n",
    "\n",
    "def best_action(self, state):\n",
    "    \"\"\"\n",
    "    Returns the best action (the one with the maximum Q-value)\n",
    "    or one of the best actions, given a state.\n",
    "    \"\"\"        \n",
    "    # get all possible q-values for the state\n",
    "    # (be optimistic in the face of uncertainty)\n",
    "    all_qvals = {action: self.qvals.get((state, action), 5)\n",
    "                 for action in self.possible_actions}        \n",
    "\n",
    "    # pick the actions that yield the largest q-value for the state\n",
    "    best_actions = [action for action in self.possible_actions \n",
    "                    if all_qvals[action] == max(all_qvals.values())]\n",
    "\n",
    "    # return one of the best actions at random\n",
    "    return random.choice(best_actions)        \n"
   ]
  },
  {
   "cell_type": "markdown",
   "metadata": {},
   "source": [
    "Instead of getting a 0 for previously unknown `(state, action)` pairs, the agent now gets a 5, which is more than even a correct move would yield as reward. So, it has more of an incentive to investigate new paths.\n",
    "\n",
    "I also changed the Q-learning update function, as below:"
   ]
  },
  {
   "cell_type": "code",
   "execution_count": 8,
   "metadata": {
    "collapsed": true
   },
   "outputs": [],
   "source": [
    "def update(self, t):\n",
    "    # Gather inputs\n",
    "    self.next_waypoint = self.planner.next_waypoint()  # from route planner, also displayed by simulator\n",
    "    inputs = self.env.sense(self)\n",
    "    deadline = self.env.get_deadline(self)\n",
    "\n",
    "    # update time and learning rate\n",
    "    self.time += 1\n",
    "    learn_rate = 1.0 / self.time\n",
    "\n",
    "    # Update state\n",
    "    self.state = (inputs['light'], inputs['oncoming'], inputs['left'],\n",
    "                  self.next_waypoint)\n",
    "\n",
    "    # Pick the best known action\n",
    "    action = self.best_action(self.state)\n",
    "\n",
    "    # Execute action and get reward\n",
    "    reward = self.env.act(self, action)\n",
    "    if reward < 0:\n",
    "        self.n_penalties += 1\n",
    "    self.reward_sum += reward\n",
    "    self.disc_reward_sum += reward / (self.time/10.0)\n",
    "\n",
    "    # Update the q-value of the (state, action) pair\n",
    "    # be optimistic in the face of uncertainty\n",
    "    self.qvals[(self.state, action)] = \\\n",
    "        (1 - learn_rate) * self.qvals.get((self.state, action), 5) + \\\n",
    "        learn_rate * reward"
   ]
  },
  {
   "cell_type": "markdown",
   "metadata": {},
   "source": [
    "These are the results for running 100 simulations of 100 trials each with this optimistic agent:"
   ]
  },
  {
   "cell_type": "code",
   "execution_count": 9,
   "metadata": {
    "collapsed": false
   },
   "outputs": [
    {
     "data": {
      "text/html": [
       "<div>\n",
       "<table border=\"1\" class=\"dataframe\">\n",
       "  <thead>\n",
       "    <tr style=\"text-align: right;\">\n",
       "      <th></th>\n",
       "      <th>reward_sum</th>\n",
       "      <th>disc_reward_sum</th>\n",
       "      <th>n_dest_reached</th>\n",
       "      <th>last_dest_fail</th>\n",
       "      <th>sum_time_left</th>\n",
       "      <th>n_penalties</th>\n",
       "      <th>last_penalty</th>\n",
       "      <th>len_qvals</th>\n",
       "    </tr>\n",
       "  </thead>\n",
       "  <tbody>\n",
       "    <tr>\n",
       "      <th>count</th>\n",
       "      <td>100.000000</td>\n",
       "      <td>100.000000</td>\n",
       "      <td>100.00000</td>\n",
       "      <td>100.000000</td>\n",
       "      <td>100.000000</td>\n",
       "      <td>100.000000</td>\n",
       "      <td>100.0</td>\n",
       "      <td>100.000000</td>\n",
       "    </tr>\n",
       "    <tr>\n",
       "      <th>mean</th>\n",
       "      <td>1336.610000</td>\n",
       "      <td>25.409441</td>\n",
       "      <td>51.59000</td>\n",
       "      <td>97.890000</td>\n",
       "      <td>735.040000</td>\n",
       "      <td>1027.790000</td>\n",
       "      <td>100.0</td>\n",
       "      <td>88.150000</td>\n",
       "    </tr>\n",
       "    <tr>\n",
       "      <th>std</th>\n",
       "      <td>412.688932</td>\n",
       "      <td>12.135543</td>\n",
       "      <td>16.46551</td>\n",
       "      <td>6.446195</td>\n",
       "      <td>251.564636</td>\n",
       "      <td>205.997661</td>\n",
       "      <td>0.0</td>\n",
       "      <td>7.811381</td>\n",
       "    </tr>\n",
       "    <tr>\n",
       "      <th>min</th>\n",
       "      <td>-6.500000</td>\n",
       "      <td>1.596077</td>\n",
       "      <td>15.00000</td>\n",
       "      <td>39.000000</td>\n",
       "      <td>177.000000</td>\n",
       "      <td>485.000000</td>\n",
       "      <td>100.0</td>\n",
       "      <td>69.000000</td>\n",
       "    </tr>\n",
       "    <tr>\n",
       "      <th>25%</th>\n",
       "      <td>1177.875000</td>\n",
       "      <td>17.143156</td>\n",
       "      <td>39.00000</td>\n",
       "      <td>97.750000</td>\n",
       "      <td>548.500000</td>\n",
       "      <td>913.000000</td>\n",
       "      <td>100.0</td>\n",
       "      <td>83.000000</td>\n",
       "    </tr>\n",
       "    <tr>\n",
       "      <th>50%</th>\n",
       "      <td>1466.250000</td>\n",
       "      <td>24.400623</td>\n",
       "      <td>55.00000</td>\n",
       "      <td>100.000000</td>\n",
       "      <td>770.000000</td>\n",
       "      <td>990.000000</td>\n",
       "      <td>100.0</td>\n",
       "      <td>87.500000</td>\n",
       "    </tr>\n",
       "    <tr>\n",
       "      <th>75%</th>\n",
       "      <td>1639.750000</td>\n",
       "      <td>33.427851</td>\n",
       "      <td>62.25000</td>\n",
       "      <td>100.000000</td>\n",
       "      <td>900.500000</td>\n",
       "      <td>1130.250000</td>\n",
       "      <td>100.0</td>\n",
       "      <td>94.000000</td>\n",
       "    </tr>\n",
       "    <tr>\n",
       "      <th>max</th>\n",
       "      <td>1938.500000</td>\n",
       "      <td>59.871271</td>\n",
       "      <td>93.00000</td>\n",
       "      <td>100.000000</td>\n",
       "      <td>1380.000000</td>\n",
       "      <td>1539.000000</td>\n",
       "      <td>100.0</td>\n",
       "      <td>106.000000</td>\n",
       "    </tr>\n",
       "  </tbody>\n",
       "</table>\n",
       "</div>"
      ],
      "text/plain": [
       "        reward_sum  disc_reward_sum  n_dest_reached  last_dest_fail  \\\n",
       "count   100.000000       100.000000       100.00000      100.000000   \n",
       "mean   1336.610000        25.409441        51.59000       97.890000   \n",
       "std     412.688932        12.135543        16.46551        6.446195   \n",
       "min      -6.500000         1.596077        15.00000       39.000000   \n",
       "25%    1177.875000        17.143156        39.00000       97.750000   \n",
       "50%    1466.250000        24.400623        55.00000      100.000000   \n",
       "75%    1639.750000        33.427851        62.25000      100.000000   \n",
       "max    1938.500000        59.871271        93.00000      100.000000   \n",
       "\n",
       "       sum_time_left  n_penalties  last_penalty   len_qvals  \n",
       "count     100.000000   100.000000         100.0  100.000000  \n",
       "mean      735.040000  1027.790000         100.0   88.150000  \n",
       "std       251.564636   205.997661           0.0    7.811381  \n",
       "min       177.000000   485.000000         100.0   69.000000  \n",
       "25%       548.500000   913.000000         100.0   83.000000  \n",
       "50%       770.000000   990.000000         100.0   87.500000  \n",
       "75%       900.500000  1130.250000         100.0   94.000000  \n",
       "max      1380.000000  1539.000000         100.0  106.000000  "
      ]
     },
     "execution_count": 9,
     "metadata": {},
     "output_type": "execute_result"
    }
   ],
   "source": [
    "df_optimistic = pd.DataFrame.from_csv(\"optimistic_agent_results.csv\")\n",
    "df_optimistic.describe()"
   ]
  },
  {
   "cell_type": "markdown",
   "metadata": {},
   "source": [
    "(The csv file is [here](https://github.com/lmurtinho/machine-learning/blob/5cd532b2a13dbf593a6e3605e4594bfa81d11018/projects/smartcab/optimistic_agent_results.csv).)\n",
    "\n",
    "A clearly *worse* result than the original agent! The next modification will help explain why.\n",
    "\n",
    "### Modifying the Learning Rate Decay\n",
    "\n",
    "My `learn_rate` variable is the inverse of my `time` variable - that is, when `time` is 1, `learn_rate` is 1/1; when `time` is 2, `learn_rate` is 1/2, and so on.\n",
    "\n",
    "But that means that the learning rate goes down *even for the* `(state, action)` *pairs not yet visited*, which greatly affects how states are updated. For example, suppose a learning agent with optimistic initialization of Q-values such that all `(state, action)` pairs initially map to a Q-value of 3. Let's also assume that the true reward for action x is -1 for both states A and B. If A is the initial state and x is the first action taken, and assuming a learning rate that is the inverse of time, the `(A, x)` Q-value will be updated to $(1 - 1)\\times3 + 1\\times-1 = -1$. If state B is the state at time 2 and action x is taken again, however, the `(B, x) ` Q-value will be updted to $(1-1/2)\\times3 + (1/2)\\times-1 = 1$. So the Q-value will be quite different for both `(state, action)` pairs, even though the agent visited them both only once.\n",
    "\n",
    "To solve this, let's change `learn_rate` to take into account the agent's experience *in a given* `(state, action)` *pair*:"
   ]
  },
  {
   "cell_type": "code",
   "execution_count": 10,
   "metadata": {
    "collapsed": true
   },
   "outputs": [],
   "source": [
    "# self.visits is initialized as empty dict\n",
    "def update(self, t):\n",
    "    # Gather inputs\n",
    "    self.next_waypoint = self.planner.next_waypoint()  # from route planner, also displayed by simulator\n",
    "    inputs = self.env.sense(self)\n",
    "    deadline = self.env.get_deadline(self)\n",
    "\n",
    "    # Update state\n",
    "    self.state = (inputs['light'], inputs['oncoming'], \n",
    "                  inputs['left'], self.next_waypoint)\n",
    "\n",
    "    # update time\n",
    "    self.time += 1\n",
    "\n",
    "    # Pick the best known action\n",
    "    action = self.best_action(self.state)\n",
    "\n",
    "    # update learning rate according to \n",
    "    # number of times (state, action) pair has been seen\n",
    "    qval_pair = (self.state, action)\n",
    "    self.visits[qval_pair] = self.visits.get(qval_pair, 0) + 1\n",
    "    learn_rate = 1.0 / self.visits[qval_pair]\n",
    "\n",
    "    # Execute action and get reward\n",
    "    reward = self.env.act(self, action)\n",
    "    if reward < 0:\n",
    "        self.n_penalties += 1\n",
    "    self.reward_sum += reward\n",
    "    self.disc_reward_sum += reward / (self.time/10.0)\n",
    "\n",
    "    # Update the q-value of the (state, action) pair\n",
    "    self.qvals[qval_pair] = \\\n",
    "        (1 - learn_rate) * self.qvals.get(qval_pair, 5) + \\\n",
    "        learn_rate * reward "
   ]
  },
  {
   "cell_type": "markdown",
   "metadata": {},
   "source": [
    "And let's see the results for the optimistic agent with this new learning rate decay:"
   ]
  },
  {
   "cell_type": "code",
   "execution_count": 11,
   "metadata": {
    "collapsed": false
   },
   "outputs": [
    {
     "data": {
      "text/html": [
       "<div>\n",
       "<table border=\"1\" class=\"dataframe\">\n",
       "  <thead>\n",
       "    <tr style=\"text-align: right;\">\n",
       "      <th></th>\n",
       "      <th>reward_sum</th>\n",
       "      <th>disc_reward_sum</th>\n",
       "      <th>n_dest_reached</th>\n",
       "      <th>last_dest_fail</th>\n",
       "      <th>sum_time_left</th>\n",
       "      <th>n_penalties</th>\n",
       "      <th>last_penalty</th>\n",
       "      <th>len_qvals</th>\n",
       "    </tr>\n",
       "  </thead>\n",
       "  <tbody>\n",
       "    <tr>\n",
       "      <th>count</th>\n",
       "      <td>100.000000</td>\n",
       "      <td>100.000000</td>\n",
       "      <td>100.000000</td>\n",
       "      <td>100.000000</td>\n",
       "      <td>100.000000</td>\n",
       "      <td>100.000000</td>\n",
       "      <td>100.000000</td>\n",
       "      <td>100.000000</td>\n",
       "    </tr>\n",
       "    <tr>\n",
       "      <th>mean</th>\n",
       "      <td>2224.330000</td>\n",
       "      <td>68.768442</td>\n",
       "      <td>98.890000</td>\n",
       "      <td>18.630000</td>\n",
       "      <td>1742.330000</td>\n",
       "      <td>37.130000</td>\n",
       "      <td>93.830000</td>\n",
       "      <td>60.880000</td>\n",
       "    </tr>\n",
       "    <tr>\n",
       "      <th>std</th>\n",
       "      <td>39.021958</td>\n",
       "      <td>13.284453</td>\n",
       "      <td>0.908934</td>\n",
       "      <td>29.016768</td>\n",
       "      <td>74.250743</td>\n",
       "      <td>6.836703</td>\n",
       "      <td>5.920441</td>\n",
       "      <td>5.981926</td>\n",
       "    </tr>\n",
       "    <tr>\n",
       "      <th>min</th>\n",
       "      <td>2139.000000</td>\n",
       "      <td>42.081913</td>\n",
       "      <td>95.000000</td>\n",
       "      <td>0.000000</td>\n",
       "      <td>1586.000000</td>\n",
       "      <td>24.000000</td>\n",
       "      <td>62.000000</td>\n",
       "      <td>43.000000</td>\n",
       "    </tr>\n",
       "    <tr>\n",
       "      <th>25%</th>\n",
       "      <td>2195.875000</td>\n",
       "      <td>58.053283</td>\n",
       "      <td>98.000000</td>\n",
       "      <td>0.750000</td>\n",
       "      <td>1683.000000</td>\n",
       "      <td>33.000000</td>\n",
       "      <td>91.000000</td>\n",
       "      <td>56.000000</td>\n",
       "    </tr>\n",
       "    <tr>\n",
       "      <th>50%</th>\n",
       "      <td>2222.000000</td>\n",
       "      <td>66.429906</td>\n",
       "      <td>99.000000</td>\n",
       "      <td>1.000000</td>\n",
       "      <td>1740.500000</td>\n",
       "      <td>37.000000</td>\n",
       "      <td>95.000000</td>\n",
       "      <td>61.500000</td>\n",
       "    </tr>\n",
       "    <tr>\n",
       "      <th>75%</th>\n",
       "      <td>2249.125000</td>\n",
       "      <td>78.953120</td>\n",
       "      <td>99.250000</td>\n",
       "      <td>30.250000</td>\n",
       "      <td>1791.250000</td>\n",
       "      <td>40.000000</td>\n",
       "      <td>98.000000</td>\n",
       "      <td>66.000000</td>\n",
       "    </tr>\n",
       "    <tr>\n",
       "      <th>max</th>\n",
       "      <td>2342.000000</td>\n",
       "      <td>100.489104</td>\n",
       "      <td>100.000000</td>\n",
       "      <td>100.000000</td>\n",
       "      <td>1927.000000</td>\n",
       "      <td>78.000000</td>\n",
       "      <td>100.000000</td>\n",
       "      <td>73.000000</td>\n",
       "    </tr>\n",
       "  </tbody>\n",
       "</table>\n",
       "</div>"
      ],
      "text/plain": [
       "        reward_sum  disc_reward_sum  n_dest_reached  last_dest_fail  \\\n",
       "count   100.000000       100.000000      100.000000      100.000000   \n",
       "mean   2224.330000        68.768442       98.890000       18.630000   \n",
       "std      39.021958        13.284453        0.908934       29.016768   \n",
       "min    2139.000000        42.081913       95.000000        0.000000   \n",
       "25%    2195.875000        58.053283       98.000000        0.750000   \n",
       "50%    2222.000000        66.429906       99.000000        1.000000   \n",
       "75%    2249.125000        78.953120       99.250000       30.250000   \n",
       "max    2342.000000       100.489104      100.000000      100.000000   \n",
       "\n",
       "       sum_time_left  n_penalties  last_penalty   len_qvals  \n",
       "count     100.000000   100.000000    100.000000  100.000000  \n",
       "mean     1742.330000    37.130000     93.830000   60.880000  \n",
       "std        74.250743     6.836703      5.920441    5.981926  \n",
       "min      1586.000000    24.000000     62.000000   43.000000  \n",
       "25%      1683.000000    33.000000     91.000000   56.000000  \n",
       "50%      1740.500000    37.000000     95.000000   61.500000  \n",
       "75%      1791.250000    40.000000     98.000000   66.000000  \n",
       "max      1927.000000    78.000000    100.000000   73.000000  "
      ]
     },
     "execution_count": 11,
     "metadata": {},
     "output_type": "execute_result"
    }
   ],
   "source": [
    "df_optim_new_rate = pd.DataFrame.from_csv(\"optim_new_rate_agent_results.csv\")\n",
    "df_optim_new_rate.describe()"
   ]
  },
  {
   "cell_type": "code",
   "execution_count": 17,
   "metadata": {
    "collapsed": false
   },
   "outputs": [
    {
     "data": {
      "text/html": [
       "<div>\n",
       "<table border=\"1\" class=\"dataframe\">\n",
       "  <thead>\n",
       "    <tr style=\"text-align: right;\">\n",
       "      <th></th>\n",
       "      <th>reward_sum</th>\n",
       "      <th>disc_reward_sum</th>\n",
       "      <th>n_dest_reached</th>\n",
       "      <th>last_dest_fail</th>\n",
       "      <th>sum_time_left</th>\n",
       "      <th>n_penalties</th>\n",
       "      <th>last_penalty</th>\n",
       "      <th>len_qvals</th>\n",
       "    </tr>\n",
       "  </thead>\n",
       "  <tbody>\n",
       "    <tr>\n",
       "      <th>count</th>\n",
       "      <td>100.00000</td>\n",
       "      <td>100.000000</td>\n",
       "      <td>100.000000</td>\n",
       "      <td>100.000000</td>\n",
       "      <td>100.000000</td>\n",
       "      <td>100.00000</td>\n",
       "      <td>100.000000</td>\n",
       "      <td>100.000000</td>\n",
       "    </tr>\n",
       "    <tr>\n",
       "      <th>mean</th>\n",
       "      <td>2231.56500</td>\n",
       "      <td>65.936586</td>\n",
       "      <td>98.080000</td>\n",
       "      <td>27.070000</td>\n",
       "      <td>1736.550000</td>\n",
       "      <td>41.59000</td>\n",
       "      <td>93.800000</td>\n",
       "      <td>62.350000</td>\n",
       "    </tr>\n",
       "    <tr>\n",
       "      <th>std</th>\n",
       "      <td>50.88622</td>\n",
       "      <td>11.931550</td>\n",
       "      <td>4.538678</td>\n",
       "      <td>35.393104</td>\n",
       "      <td>113.775197</td>\n",
       "      <td>25.48285</td>\n",
       "      <td>6.573593</td>\n",
       "      <td>5.521995</td>\n",
       "    </tr>\n",
       "    <tr>\n",
       "      <th>min</th>\n",
       "      <td>2140.00000</td>\n",
       "      <td>41.644696</td>\n",
       "      <td>63.000000</td>\n",
       "      <td>0.000000</td>\n",
       "      <td>1095.000000</td>\n",
       "      <td>27.00000</td>\n",
       "      <td>72.000000</td>\n",
       "      <td>50.000000</td>\n",
       "    </tr>\n",
       "    <tr>\n",
       "      <th>25%</th>\n",
       "      <td>2199.12500</td>\n",
       "      <td>56.496245</td>\n",
       "      <td>98.000000</td>\n",
       "      <td>1.000000</td>\n",
       "      <td>1695.500000</td>\n",
       "      <td>34.00000</td>\n",
       "      <td>91.000000</td>\n",
       "      <td>59.000000</td>\n",
       "    </tr>\n",
       "    <tr>\n",
       "      <th>50%</th>\n",
       "      <td>2228.75000</td>\n",
       "      <td>64.459840</td>\n",
       "      <td>99.000000</td>\n",
       "      <td>1.000000</td>\n",
       "      <td>1743.500000</td>\n",
       "      <td>37.00000</td>\n",
       "      <td>96.000000</td>\n",
       "      <td>62.000000</td>\n",
       "    </tr>\n",
       "    <tr>\n",
       "      <th>75%</th>\n",
       "      <td>2259.50000</td>\n",
       "      <td>72.553541</td>\n",
       "      <td>99.000000</td>\n",
       "      <td>57.000000</td>\n",
       "      <td>1796.500000</td>\n",
       "      <td>40.00000</td>\n",
       "      <td>99.000000</td>\n",
       "      <td>67.000000</td>\n",
       "    </tr>\n",
       "    <tr>\n",
       "      <th>max</th>\n",
       "      <td>2450.50000</td>\n",
       "      <td>102.732324</td>\n",
       "      <td>100.000000</td>\n",
       "      <td>100.000000</td>\n",
       "      <td>1942.000000</td>\n",
       "      <td>217.00000</td>\n",
       "      <td>100.000000</td>\n",
       "      <td>77.000000</td>\n",
       "    </tr>\n",
       "  </tbody>\n",
       "</table>\n",
       "</div>"
      ],
      "text/plain": [
       "       reward_sum  disc_reward_sum  n_dest_reached  last_dest_fail  \\\n",
       "count   100.00000       100.000000      100.000000      100.000000   \n",
       "mean   2231.56500        65.936586       98.080000       27.070000   \n",
       "std      50.88622        11.931550        4.538678       35.393104   \n",
       "min    2140.00000        41.644696       63.000000        0.000000   \n",
       "25%    2199.12500        56.496245       98.000000        1.000000   \n",
       "50%    2228.75000        64.459840       99.000000        1.000000   \n",
       "75%    2259.50000        72.553541       99.000000       57.000000   \n",
       "max    2450.50000       102.732324      100.000000      100.000000   \n",
       "\n",
       "       sum_time_left  n_penalties  last_penalty   len_qvals  \n",
       "count     100.000000    100.00000    100.000000  100.000000  \n",
       "mean     1736.550000     41.59000     93.800000   62.350000  \n",
       "std       113.775197     25.48285      6.573593    5.521995  \n",
       "min      1095.000000     27.00000     72.000000   50.000000  \n",
       "25%      1695.500000     34.00000     91.000000   59.000000  \n",
       "50%      1743.500000     37.00000     96.000000   62.000000  \n",
       "75%      1796.500000     40.00000     99.000000   67.000000  \n",
       "max      1942.000000    217.00000    100.000000   77.000000  "
      ]
     },
     "execution_count": 17,
     "metadata": {},
     "output_type": "execute_result"
    }
   ],
   "source": [
    "df_explo_agent = pd.DataFrame.from_csv('exploration_agent_results.csv')\n",
    "df_explo_agent.describe()"
   ]
  },
  {
   "cell_type": "code",
   "execution_count": 19,
   "metadata": {
    "collapsed": false
   },
   "outputs": [
    {
     "data": {
      "text/html": [
       "<div>\n",
       "<table border=\"1\" class=\"dataframe\">\n",
       "  <thead>\n",
       "    <tr style=\"text-align: right;\">\n",
       "      <th></th>\n",
       "      <th>reward_sum</th>\n",
       "      <th>disc_reward_sum</th>\n",
       "      <th>n_dest_reached</th>\n",
       "      <th>last_dest_fail</th>\n",
       "      <th>sum_time_left</th>\n",
       "      <th>n_penalties</th>\n",
       "      <th>last_penalty</th>\n",
       "      <th>len_qvals</th>\n",
       "    </tr>\n",
       "  </thead>\n",
       "  <tbody>\n",
       "    <tr>\n",
       "      <th>count</th>\n",
       "      <td>100.000000</td>\n",
       "      <td>100.000000</td>\n",
       "      <td>100.00000</td>\n",
       "      <td>100.000000</td>\n",
       "      <td>100.000000</td>\n",
       "      <td>100.000000</td>\n",
       "      <td>100.000000</td>\n",
       "      <td>100.000000</td>\n",
       "    </tr>\n",
       "    <tr>\n",
       "      <th>mean</th>\n",
       "      <td>2215.270000</td>\n",
       "      <td>69.691406</td>\n",
       "      <td>98.80000</td>\n",
       "      <td>22.260000</td>\n",
       "      <td>1746.210000</td>\n",
       "      <td>37.860000</td>\n",
       "      <td>92.610000</td>\n",
       "      <td>62.200000</td>\n",
       "    </tr>\n",
       "    <tr>\n",
       "      <th>std</th>\n",
       "      <td>43.741228</td>\n",
       "      <td>15.789045</td>\n",
       "      <td>1.03475</td>\n",
       "      <td>32.196562</td>\n",
       "      <td>79.220482</td>\n",
       "      <td>5.497511</td>\n",
       "      <td>7.994815</td>\n",
       "      <td>5.162021</td>\n",
       "    </tr>\n",
       "    <tr>\n",
       "      <th>min</th>\n",
       "      <td>2128.500000</td>\n",
       "      <td>39.464679</td>\n",
       "      <td>95.00000</td>\n",
       "      <td>0.000000</td>\n",
       "      <td>1581.000000</td>\n",
       "      <td>26.000000</td>\n",
       "      <td>64.000000</td>\n",
       "      <td>46.000000</td>\n",
       "    </tr>\n",
       "    <tr>\n",
       "      <th>25%</th>\n",
       "      <td>2186.625000</td>\n",
       "      <td>58.939073</td>\n",
       "      <td>98.00000</td>\n",
       "      <td>0.000000</td>\n",
       "      <td>1695.750000</td>\n",
       "      <td>35.000000</td>\n",
       "      <td>90.000000</td>\n",
       "      <td>59.000000</td>\n",
       "    </tr>\n",
       "    <tr>\n",
       "      <th>50%</th>\n",
       "      <td>2210.250000</td>\n",
       "      <td>68.126281</td>\n",
       "      <td>99.00000</td>\n",
       "      <td>1.000000</td>\n",
       "      <td>1742.500000</td>\n",
       "      <td>37.000000</td>\n",
       "      <td>95.500000</td>\n",
       "      <td>62.000000</td>\n",
       "    </tr>\n",
       "    <tr>\n",
       "      <th>75%</th>\n",
       "      <td>2249.750000</td>\n",
       "      <td>79.767793</td>\n",
       "      <td>100.00000</td>\n",
       "      <td>41.250000</td>\n",
       "      <td>1799.000000</td>\n",
       "      <td>39.000000</td>\n",
       "      <td>98.000000</td>\n",
       "      <td>65.000000</td>\n",
       "    </tr>\n",
       "    <tr>\n",
       "      <th>max</th>\n",
       "      <td>2326.000000</td>\n",
       "      <td>116.474991</td>\n",
       "      <td>100.00000</td>\n",
       "      <td>98.000000</td>\n",
       "      <td>1925.000000</td>\n",
       "      <td>76.000000</td>\n",
       "      <td>100.000000</td>\n",
       "      <td>75.000000</td>\n",
       "    </tr>\n",
       "  </tbody>\n",
       "</table>\n",
       "</div>"
      ],
      "text/plain": [
       "        reward_sum  disc_reward_sum  n_dest_reached  last_dest_fail  \\\n",
       "count   100.000000       100.000000       100.00000      100.000000   \n",
       "mean   2215.270000        69.691406        98.80000       22.260000   \n",
       "std      43.741228        15.789045         1.03475       32.196562   \n",
       "min    2128.500000        39.464679        95.00000        0.000000   \n",
       "25%    2186.625000        58.939073        98.00000        0.000000   \n",
       "50%    2210.250000        68.126281        99.00000        1.000000   \n",
       "75%    2249.750000        79.767793       100.00000       41.250000   \n",
       "max    2326.000000       116.474991       100.00000       98.000000   \n",
       "\n",
       "       sum_time_left  n_penalties  last_penalty   len_qvals  \n",
       "count     100.000000   100.000000    100.000000  100.000000  \n",
       "mean     1746.210000    37.860000     92.610000   62.200000  \n",
       "std        79.220482     5.497511      7.994815    5.162021  \n",
       "min      1581.000000    26.000000     64.000000   46.000000  \n",
       "25%      1695.750000    35.000000     90.000000   59.000000  \n",
       "50%      1742.500000    37.000000     95.500000   62.000000  \n",
       "75%      1799.000000    39.000000     98.000000   65.000000  \n",
       "max      1925.000000    76.000000    100.000000   75.000000  "
      ]
     },
     "execution_count": 19,
     "metadata": {},
     "output_type": "execute_result"
    }
   ],
   "source": [
    "df_optim_explo_agent = pd.DataFrame.from_csv('optim_new_rate_explo_agent_results.csv')\n",
    "df_optim_explo_agent.describe()"
   ]
  },
  {
   "cell_type": "code",
   "execution_count": 12,
   "metadata": {
    "collapsed": true
   },
   "outputs": [],
   "source": [
    "from matplotlib import pyplot as plt\n",
    "import seaborn as sns\n",
    "\n",
    "plt.rcParams['figure.figsize'] = [12, 18]\n",
    "%matplotlib inline"
   ]
  },
  {
   "cell_type": "code",
   "execution_count": 20,
   "metadata": {
    "collapsed": false
   },
   "outputs": [
    {
     "data": {
      "image/png": "[encoded data removed]",
      "text/plain": [
       "<matplotlib.figure.Figure at 0xb503470>"
      ]
     },
     "metadata": {},
     "output_type": "display_data"
    },
    {
     "data": {
      "image/png": "[encoded data removed]",
      "text/plain": [
       "<matplotlib.figure.Figure at 0xb45f128>"
      ]
     },
     "metadata": {},
     "output_type": "display_data"
    },
    {
     "data": {
      "image/png": "[encoded data removed]",
      "text/plain": [
       "<matplotlib.figure.Figure at 0xb975320>"
      ]
     },
     "metadata": {},
     "output_type": "display_data"
    },
    {
     "data": {
      "image/png": "[encoded data removed]",
      "text/plain": [
       "<matplotlib.figure.Figure at 0xb4a2278>"
      ]
     },
     "metadata": {},
     "output_type": "display_data"
    },
    {
     "data": {
      "image/png": "[encoded data removed]",
      "text/plain": [
       "<matplotlib.figure.Figure at 0xab8aef0>"
      ]
     },
     "metadata": {},
     "output_type": "display_data"
    },
    {
     "data": {
      "image/png": "[encoded data removed]",
      "text/plain": [
       "<matplotlib.figure.Figure at 0xc83d358>"
      ]
     },
     "metadata": {},
     "output_type": "display_data"
    },
    {
     "data": {
      "image/png": "[encoded data removed]",
      "text/plain": [
       "<matplotlib.figure.Figure at 0xc253518>"
      ]
     },
     "metadata": {},
     "output_type": "display_data"
    },
    {
     "data": {
      "image/png": "[encoded data removed]",
      "text/plain": [
       "<matplotlib.figure.Figure at 0xbf41908>"
      ]
     },
     "metadata": {},
     "output_type": "display_data"
    }
   ],
   "source": [
    "panel = pd.Panel.from_dict({'original': df_original,\n",
    "                            'optimistic': df_optimistic,\n",
    "                            'new_rate': df_optim_new_rate,\n",
    "                            'exploration': df_explo_agent,\n",
    "                            'optim_explo': df_optim_explo_agent})\n",
    "for column in df_original.columns:\n",
    "    sns.boxplot(data=panel.minor_xs(column))\n",
    "    plt.title(column)\n",
    "    plt.show()\n",
    "    plt.close()"
   ]
  },
  {
   "cell_type": "markdown",
   "metadata": {},
   "source": [
    "## Results\n",
    "\n",
    "The last task, according to the project description, is:\n",
    "\n",
    "> Apply the reinforcement learning techniques you have learnt, and tweak the parameters (e.g. learning rate, discount factor, action selection method, etc.), to improve the performance of your agent. Your goal is to get it to a point so that within 100 trials, the agent is able to learn a feasible policy - i.e. reach the destination within the allotted time, with net reward remaining positive.\n",
    "\n",
    "This goal is reached with the implementation presented above. Although there are instances in which, with 90+ trials, the agent will pick a wrong action from time to time, in my tests it never failed to reach the destination after 60+ trials."
   ]
  },
  {
   "cell_type": "code",
   "execution_count": 14,
   "metadata": {
    "collapsed": false
   },
   "outputs": [
    {
     "data": {
      "text/plain": [
       "[<matplotlib.lines.Line2D at 0xbba8320>]"
      ]
     },
     "execution_count": 14,
     "metadata": {},
     "output_type": "execute_result"
    },
    {
     "data": {
      "image/png": "[encoded data removed]",
      "text/plain": [
       "<matplotlib.figure.Figure at 0x8612828>"
      ]
     },
     "metadata": {},
     "output_type": "display_data"
    }
   ],
   "source": [
    "from matplotlib import pyplot as plt\n",
    "import seaborn as sns\n",
    "%matplotlib inline\n",
    "\n",
    "#plt.rcParams['figure.figsize'] = [15, 10]\n",
    "\n",
    "plt.plot(df_original['last_penalty'])\n",
    "\n",
    "#for column in df_original.columns:\n",
    "#    sns.boxplot(x=column, data=df_original)\n",
    "#    plt.show()"
   ]
  },
  {
   "cell_type": "code",
   "execution_count": null,
   "metadata": {
    "collapsed": true
   },
   "outputs": [],
   "source": []
  }
 ],
 "metadata": {
  "kernelspec": {
   "display_name": "Python 2",
   "language": "python",
   "name": "python2"
  },
  "language_info": {
   "codemirror_mode": {
    "name": "ipython",
    "version": 2
   },
   "file_extension": ".py",
   "mimetype": "text/x-python",
   "name": "python",
   "nbconvert_exporter": "python",
   "pygments_lexer": "ipython2",
   "version": "2.7.11"
  }
 },
 "nbformat": 4,
 "nbformat_minor": 0
}
